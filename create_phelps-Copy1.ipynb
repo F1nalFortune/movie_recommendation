{
 "cells": [
  {
   "cell_type": "markdown",
   "metadata": {},
   "source": [
    "### Imports"
   ]
  },
  {
   "cell_type": "code",
   "execution_count": 1,
   "metadata": {},
   "outputs": [],
   "source": [
    "import pandas as pd\n",
    "import numpy as np\n",
    "import datetime\n",
    "import dateutil\n",
    "from datetime import timedelta\n",
    "from collections import Counter\n",
    "pd.set_option('display.max_columns', 500)\n",
    "import ast\n",
    "import re\n",
    "from tqdm.notebook import tqdm, tnrange\n",
    "tqdm.pandas()\n",
    "import missingno as msno\n",
    "import seaborn as sns\n",
    "import swifter"
   ]
  },
  {
   "cell_type": "code",
   "execution_count": 2,
   "metadata": {},
   "outputs": [
    {
     "name": "stderr",
     "output_type": "stream",
     "text": [
      "[nltk_data] Downloading package punkt to\n",
      "[nltk_data]     /Users/brianphelps/nltk_data...\n",
      "[nltk_data]   Package punkt is already up-to-date!\n"
     ]
    }
   ],
   "source": [
    "from sklearn.metrics.pairwise import cosine_similarity\n",
    "from sklearn.feature_extraction.text import CountVectorizer\n",
    "import nltk\n",
    "nltk.download('punkt')\n",
    "import nltk.data\n",
    "tokenizer = nltk.data.load('tokenizers/punkt/english.pickle')\n",
    "\n",
    "from transformers import T5Tokenizer, T5ForConditionalGeneration, T5Config\n",
    "import torch\n",
    "import json "
   ]
  },
  {
   "cell_type": "code",
   "execution_count": 3,
   "metadata": {},
   "outputs": [
    {
     "name": "stdout",
     "output_type": "stream",
     "text": [
      "INFO: Pandarallel will run on 4 workers.\n",
      "INFO: Pandarallel will use standard multiprocessing data transfer (pipe) to transfer data between the main process and workers.\n"
     ]
    }
   ],
   "source": [
    "# from pandarallel import pandarallel\n",
    "# pandarallel.initialize(progress_bar=True)"
   ]
  },
  {
   "cell_type": "code",
   "execution_count": 4,
   "metadata": {},
   "outputs": [
    {
     "name": "stderr",
     "output_type": "stream",
     "text": [
      "/Users/brianphelps/opt/anaconda3/envs/recommender/lib/python3.7/site-packages/IPython/core/interactiveshell.py:3338: DtypeWarning: Columns (29) have mixed types.Specify dtype option on import or set low_memory=False.\n",
      "  if (await self.run_code(code, result,  async_=asy)):\n"
     ]
    }
   ],
   "source": [
    "'''\n",
    "  GRAB MOVIE DATA FROM THREADS\n",
    "'''\n",
    "def createDate(row):\n",
    "  if type(row)==str:\n",
    "    return dateutil.parser.parse(row).strftime('%Y-%m-%d')\n",
    "  else:\n",
    "    return np.nan\n",
    "\n",
    "def createDf():\n",
    "  path = \"./data//full_\"\n",
    "  paths = ['one', 'two', 'three', 'four', 'five', 'six']\n",
    "  df = pd.DataFrame()\n",
    "  for val in paths:\n",
    "    df = df.append(pd.read_csv(f\"{path}{val}.csv\"))\n",
    "  return df\n",
    "\n",
    "df = createDf()\n",
    "\n",
    "#DROP INVALID DISTRIBUTOR COLUMNS\n",
    "df = df.drop(columns=['distributor'])\n",
    "\n",
    "#DROP MOVIES WITHOUT DEPENDENT VARIABLE DATA\n",
    "# df.dropna(subset=['box_office'], inplace=True)\n",
    "\n",
    "#DROP DUPLICATE MOVIES\n",
    "df = df.drop_duplicates(subset=['profile'])\n",
    "df = df.reset_index(drop=True)"
   ]
  },
  {
   "cell_type": "code",
   "execution_count": 5,
   "metadata": {},
   "outputs": [
    {
     "data": {
      "text/plain": [
       "(367802, 42)"
      ]
     },
     "execution_count": 5,
     "metadata": {},
     "output_type": "execute_result"
    }
   ],
   "source": [
    "df.shape"
   ]
  },
  {
   "cell_type": "code",
   "execution_count": 6,
   "metadata": {},
   "outputs": [],
   "source": [
    "drop_columns=['cast_members','cast_anchors','directors','release','mpaa','stars','languages','prod_anchors','budget','box_office', 'int_office', 'runtime','director_credits','cinematographer','cin_anch','musician','musician_anchor', 'prod_designer', 'prod_designer_anchor','costume_designer','costume_designer_anchor','sequel','screen_writers','screen_anchors','screen_credits','spec_eff','sound_mix','producers','prod_credits','cast_count','comp_count','version_count','references_count']\n",
    "df=df.drop(columns=drop_columns)"
   ]
  },
  {
   "cell_type": "code",
   "execution_count": 7,
   "metadata": {},
   "outputs": [
    {
     "data": {
      "text/html": [
       "<div>\n",
       "<style scoped>\n",
       "    .dataframe tbody tr th:only-of-type {\n",
       "        vertical-align: middle;\n",
       "    }\n",
       "\n",
       "    .dataframe tbody tr th {\n",
       "        vertical-align: top;\n",
       "    }\n",
       "\n",
       "    .dataframe thead th {\n",
       "        text-align: right;\n",
       "    }\n",
       "</style>\n",
       "<table border=\"1\" class=\"dataframe\">\n",
       "  <thead>\n",
       "    <tr style=\"text-align: right;\">\n",
       "      <th></th>\n",
       "      <th>name</th>\n",
       "      <th>profile</th>\n",
       "      <th>plot</th>\n",
       "      <th>summary</th>\n",
       "      <th>sequels</th>\n",
       "      <th>pro_comp</th>\n",
       "      <th>director_anchors</th>\n",
       "      <th>genre</th>\n",
       "      <th>star_anchs</th>\n",
       "    </tr>\n",
       "  </thead>\n",
       "  <tbody>\n",
       "    <tr>\n",
       "      <th>0</th>\n",
       "      <td>Star Wars: Episode VII - The Force Awakens</td>\n",
       "      <td>/title/tt2488496/</td>\n",
       "      <td>Luke Skywalker has vanished. In his absence, t...</td>\n",
       "      <td>Three decades after the Empire's defeat, a new...</td>\n",
       "      <td>['Star Wars: Episode IV - A New Hope', 'Star W...</td>\n",
       "      <td>['Lucasfilm', 'Bad Robot', 'Truenorth Producti...</td>\n",
       "      <td>['/name/nm0009190/']</td>\n",
       "      <td>['Action', 'Adventure', 'Sci-Fi']</td>\n",
       "      <td>['/name/nm5397459/', '/name/nm3915784/', '/nam...</td>\n",
       "    </tr>\n",
       "    <tr>\n",
       "      <th>1</th>\n",
       "      <td>Avengers: Endgame</td>\n",
       "      <td>/title/tt4154796/</td>\n",
       "      <td>In the opening, Clint Barton is teaching his d...</td>\n",
       "      <td>After the devastating events of Avengers: Infi...</td>\n",
       "      <td>['The Avengers', 'Avengers: Age of Ultron', 'A...</td>\n",
       "      <td>['Marvel Studios']</td>\n",
       "      <td>['/name/nm0751577/', '/name/nm0751648/']</td>\n",
       "      <td>['Action', 'Adventure', 'Drama']</td>\n",
       "      <td>['/name/nm0000375/', '/name/nm0262635/', '/nam...</td>\n",
       "    </tr>\n",
       "    <tr>\n",
       "      <th>2</th>\n",
       "      <td>Avatar</td>\n",
       "      <td>/title/tt0499549/</td>\n",
       "      <td>The story opens with a sweeping shot high acro...</td>\n",
       "      <td>A paraplegic Marine dispatched to the moon Pan...</td>\n",
       "      <td>NaN</td>\n",
       "      <td>['Twentieth Century Fox', 'Dune Entertainment'...</td>\n",
       "      <td>['/name/nm0000116/']</td>\n",
       "      <td>['Action', 'Adventure', 'Fantasy']</td>\n",
       "      <td>['/name/nm0941777/', '/name/nm0757855/', '/nam...</td>\n",
       "    </tr>\n",
       "    <tr>\n",
       "      <th>3</th>\n",
       "      <td>Black Panther</td>\n",
       "      <td>/title/tt1825683/</td>\n",
       "      <td>A voice from a young boy asks to tell him a st...</td>\n",
       "      <td>T'Challa, heir to the hidden but advanced king...</td>\n",
       "      <td>NaN</td>\n",
       "      <td>['Marvel Studios', 'Walt Disney Pictures']</td>\n",
       "      <td>['/name/nm3363032/']</td>\n",
       "      <td>['Action', 'Adventure', 'Sci-Fi']</td>\n",
       "      <td>['/name/nm1569276/', '/name/nm0430107/', '/nam...</td>\n",
       "    </tr>\n",
       "    <tr>\n",
       "      <th>4</th>\n",
       "      <td>Avengers: Infinity War</td>\n",
       "      <td>/title/tt4154756/</td>\n",
       "      <td>SPOILER: Thanos and his Children - Proxima Mid...</td>\n",
       "      <td>The Avengers and their allies must be willing ...</td>\n",
       "      <td>['The Avengers', 'Avengers: Age of Ultron']</td>\n",
       "      <td>['Marvel Studios', 'Jason Roberts Productions'...</td>\n",
       "      <td>['/name/nm0751577/', '/name/nm0751648/']</td>\n",
       "      <td>['Action', 'Adventure', 'Sci-Fi']</td>\n",
       "      <td>['/name/nm0000375/', '/name/nm1165110/', '/nam...</td>\n",
       "    </tr>\n",
       "  </tbody>\n",
       "</table>\n",
       "</div>"
      ],
      "text/plain": [
       "                                         name            profile  \\\n",
       "0  Star Wars: Episode VII - The Force Awakens  /title/tt2488496/   \n",
       "1                           Avengers: Endgame  /title/tt4154796/   \n",
       "2                                      Avatar  /title/tt0499549/   \n",
       "3                               Black Panther  /title/tt1825683/   \n",
       "4                      Avengers: Infinity War  /title/tt4154756/   \n",
       "\n",
       "                                                plot  \\\n",
       "0  Luke Skywalker has vanished. In his absence, t...   \n",
       "1  In the opening, Clint Barton is teaching his d...   \n",
       "2  The story opens with a sweeping shot high acro...   \n",
       "3  A voice from a young boy asks to tell him a st...   \n",
       "4  SPOILER: Thanos and his Children - Proxima Mid...   \n",
       "\n",
       "                                             summary  \\\n",
       "0  Three decades after the Empire's defeat, a new...   \n",
       "1  After the devastating events of Avengers: Infi...   \n",
       "2  A paraplegic Marine dispatched to the moon Pan...   \n",
       "3  T'Challa, heir to the hidden but advanced king...   \n",
       "4  The Avengers and their allies must be willing ...   \n",
       "\n",
       "                                             sequels  \\\n",
       "0  ['Star Wars: Episode IV - A New Hope', 'Star W...   \n",
       "1  ['The Avengers', 'Avengers: Age of Ultron', 'A...   \n",
       "2                                                NaN   \n",
       "3                                                NaN   \n",
       "4        ['The Avengers', 'Avengers: Age of Ultron']   \n",
       "\n",
       "                                            pro_comp  \\\n",
       "0  ['Lucasfilm', 'Bad Robot', 'Truenorth Producti...   \n",
       "1                                 ['Marvel Studios']   \n",
       "2  ['Twentieth Century Fox', 'Dune Entertainment'...   \n",
       "3         ['Marvel Studios', 'Walt Disney Pictures']   \n",
       "4  ['Marvel Studios', 'Jason Roberts Productions'...   \n",
       "\n",
       "                           director_anchors  \\\n",
       "0                      ['/name/nm0009190/']   \n",
       "1  ['/name/nm0751577/', '/name/nm0751648/']   \n",
       "2                      ['/name/nm0000116/']   \n",
       "3                      ['/name/nm3363032/']   \n",
       "4  ['/name/nm0751577/', '/name/nm0751648/']   \n",
       "\n",
       "                                genre  \\\n",
       "0   ['Action', 'Adventure', 'Sci-Fi']   \n",
       "1    ['Action', 'Adventure', 'Drama']   \n",
       "2  ['Action', 'Adventure', 'Fantasy']   \n",
       "3   ['Action', 'Adventure', 'Sci-Fi']   \n",
       "4   ['Action', 'Adventure', 'Sci-Fi']   \n",
       "\n",
       "                                          star_anchs  \n",
       "0  ['/name/nm5397459/', '/name/nm3915784/', '/nam...  \n",
       "1  ['/name/nm0000375/', '/name/nm0262635/', '/nam...  \n",
       "2  ['/name/nm0941777/', '/name/nm0757855/', '/nam...  \n",
       "3  ['/name/nm1569276/', '/name/nm0430107/', '/nam...  \n",
       "4  ['/name/nm0000375/', '/name/nm1165110/', '/nam...  "
      ]
     },
     "execution_count": 7,
     "metadata": {},
     "output_type": "execute_result"
    }
   ],
   "source": [
    "df.head()"
   ]
  },
  {
   "cell_type": "code",
   "execution_count": 8,
   "metadata": {},
   "outputs": [],
   "source": [
    "errors = ['The plot is unknown at this time.','Add a Plot\\xa0»','Plot unknown.','Plot kept under wraps.','Plot is unknown.','The plot is unknown.','Plot is unknown at this time.','The plot is currently unknown.','Plot is being kept under wraps.']\n",
    "replace = ['See full summary\\xa0»','...\\n','\\n']"
   ]
  },
  {
   "cell_type": "code",
   "execution_count": 9,
   "metadata": {},
   "outputs": [
    {
     "data": {
      "application/vnd.jupyter.widget-view+json": {
       "model_id": "9fdb0c7b12494121b4e0f697d65ef0b5",
       "version_major": 2,
       "version_minor": 0
      },
      "text/plain": [
       "  0%|          | 0/367802 [00:00<?, ?it/s]"
      ]
     },
     "metadata": {},
     "output_type": "display_data"
    }
   ],
   "source": [
    "df=df.reset_index(drop=True)\n",
    "error_count=0\n",
    "keep_indices=[]\n",
    "for idx,row in tqdm(enumerate(df.itertuples()),total=len(df)):\n",
    "  if row.summary in errors:\n",
    "    error_count+=1\n",
    "  else:\n",
    "    keep_indices.append(idx)\n",
    "  if type(row.summary)==str:\n",
    "    for val in replace:\n",
    "      if val in row.summary:\n",
    "        df.at[idx, 'summary']=row.summary.replace(val, \"\")\n",
    "    "
   ]
  },
  {
   "cell_type": "code",
   "execution_count": 10,
   "metadata": {},
   "outputs": [],
   "source": [
    "df=df.iloc[keep_indices]"
   ]
  },
  {
   "cell_type": "code",
   "execution_count": 11,
   "metadata": {},
   "outputs": [],
   "source": [
    "df=df.reset_index(drop=True)"
   ]
  },
  {
   "cell_type": "code",
   "execution_count": 12,
   "metadata": {},
   "outputs": [
    {
     "data": {
      "application/vnd.jupyter.widget-view+json": {
       "model_id": "05593f0dbbbd4d2bb44535660e83fd81",
       "version_major": 2,
       "version_minor": 0
      },
      "text/plain": [
       "Production Company:   0%|          | 0/220819 [00:00<?, ?it/s]"
      ]
     },
     "metadata": {},
     "output_type": "display_data"
    }
   ],
   "source": [
    "def mainProd(row):\n",
    "  try:\n",
    "    return row[0]\n",
    "  except:\n",
    "    return np.nan\n",
    "tqdm.pandas(desc=\"Production Company\")\n",
    "df['main_prod'] = df['pro_comp'].progress_apply(lambda x: ast.literal_eval(x)[0] if type(x)==str else np.nan)\n",
    "df=df.drop('pro_comp',axis=1)"
   ]
  },
  {
   "cell_type": "code",
   "execution_count": 13,
   "metadata": {},
   "outputs": [],
   "source": [
    "lists = ['sequels','director_anchors','star_anchs']\n",
    "for val in lists:\n",
    "  df[val]=df[val].apply(lambda x: ast.literal_eval(x) if type(x)==str else np.nan)"
   ]
  },
  {
   "cell_type": "code",
   "execution_count": 14,
   "metadata": {},
   "outputs": [],
   "source": [
    "fixed_plots = []\n",
    "for idx, row in enumerate(df.itertuples()):\n",
    "  if type(row.summary)!=str:\n",
    "    if type(row.plot)==str:\n",
    "      df.at[idx, 'summary']=row.plot\n",
    "      fixed_plots.append(row.plot)"
   ]
  },
  {
   "cell_type": "code",
   "execution_count": 15,
   "metadata": {},
   "outputs": [
    {
     "name": "stdout",
     "output_type": "stream",
     "text": [
      "Fixed 185 movie summaries\n"
     ]
    }
   ],
   "source": [
    "print(f\"Fixed {len(fixed_plots)} movie summaries\")"
   ]
  },
  {
   "cell_type": "code",
   "execution_count": 16,
   "metadata": {},
   "outputs": [],
   "source": [
    "df=df.dropna(subset=['summary'])\n",
    "df=df.reset_index(drop=True)"
   ]
  },
  {
   "cell_type": "code",
   "execution_count": 17,
   "metadata": {},
   "outputs": [
    {
     "data": {
      "text/plain": [
       "<AxesSubplot:>"
      ]
     },
     "execution_count": 17,
     "metadata": {},
     "output_type": "execute_result"
    },
    {
     "data": {
      "image/png": "[encoded data removed]",
      "text/plain": [
       "<Figure size 1728x720 with 3 Axes>"
      ]
     },
     "metadata": {
      "needs_background": "light"
     },
     "output_type": "display_data"
    }
   ],
   "source": [
    "msno.bar(df)"
   ]
  },
  {
   "cell_type": "markdown",
   "metadata": {},
   "source": [
    "### Feature Engineering"
   ]
  },
  {
   "cell_type": "markdown",
   "metadata": {},
   "source": [
    "#### Genre and Director\n",
    "#### Genre and Stars\n",
    "#### Stars and Director\n",
    "#### Stars Director Genre"
   ]
  },
  {
   "cell_type": "code",
   "execution_count": 18,
   "metadata": {},
   "outputs": [],
   "source": [
    "def summary_len(text):\n",
    "  result = len(tokenizer.tokenize(text))\n",
    "  return result\n",
    "df['summary_len']=df['summary'].apply(summary_len)"
   ]
  },
  {
   "cell_type": "code",
   "execution_count": 19,
   "metadata": {},
   "outputs": [
    {
     "data": {
      "text/plain": [
       "0         2\n",
       "1         2\n",
       "2         1\n",
       "3         1\n",
       "4         1\n",
       "         ..\n",
       "194881    1\n",
       "194882    1\n",
       "194883    1\n",
       "194884    2\n",
       "194885    1\n",
       "Name: summary_len, Length: 194886, dtype: int64"
      ]
     },
     "execution_count": 19,
     "metadata": {},
     "output_type": "execute_result"
    }
   ],
   "source": [
    "df['summary_len']"
   ]
  },
  {
   "cell_type": "code",
   "execution_count": 20,
   "metadata": {},
   "outputs": [
    {
     "data": {
      "text/plain": [
       "<AxesSubplot:xlabel='summary_len'>"
      ]
     },
     "execution_count": 20,
     "metadata": {},
     "output_type": "execute_result"
    },
    {
     "data": {
      "image/png": "[encoded data removed]",
      "text/plain": [
       "<Figure size 432x288 with 1 Axes>"
      ]
     },
     "metadata": {
      "needs_background": "light"
     },
     "output_type": "display_data"
    }
   ],
   "source": [
    "sns.distplot(df['summary_len'])"
   ]
  },
  {
   "cell_type": "code",
   "execution_count": 21,
   "metadata": {},
   "outputs": [],
   "source": [
    "df['word_count']=df['summary'].apply(lambda x: len(x.split(\" \")))"
   ]
  },
  {
   "cell_type": "code",
   "execution_count": 22,
   "metadata": {},
   "outputs": [
    {
     "data": {
      "text/plain": [
       "59781"
      ]
     },
     "execution_count": 22,
     "metadata": {},
     "output_type": "execute_result"
    }
   ],
   "source": [
    "len(df.loc[df['word_count']<25])"
   ]
  },
  {
   "cell_type": "code",
   "execution_count": 23,
   "metadata": {},
   "outputs": [
    {
     "data": {
      "text/plain": [
       "<AxesSubplot:xlabel='word_count'>"
      ]
     },
     "execution_count": 23,
     "metadata": {},
     "output_type": "execute_result"
    },
    {
     "data": {
      "image/png": "[encoded data removed]",
      "text/plain": [
       "<Figure size 432x288 with 1 Axes>"
      ]
     },
     "metadata": {
      "needs_background": "light"
     },
     "output_type": "display_data"
    }
   ],
   "source": [
    "sns.distplot(df['word_count'])"
   ]
  },
  {
   "cell_type": "code",
   "execution_count": 24,
   "metadata": {},
   "outputs": [
    {
     "data": {
      "text/plain": [
       "array([    0, 94308, 70221, 24774,  4391,   804,   175,    68,    33,\n",
       "          14,     5,     8,    10,     8,     6,     3,     5,     1,\n",
       "           4,     4,     3,     2,     3,     3,     1,     3,     1,\n",
       "           3,     2,     0,     1,     2,     3,     0,     1,     2,\n",
       "           0,     1,     0,     1,     0,     0,     1,     1,     2,\n",
       "           0,     0,     2,     1,     0,     0,     0,     0,     0,\n",
       "           0,     0,     0,     1,     0,     0,     0,     1,     0,\n",
       "           0,     1,     0,     0,     0,     0,     0,     0,     0,\n",
       "           0,     0,     0,     0,     0,     0,     0,     0,     0,\n",
       "           0,     0,     0,     0,     0,     0,     0,     0,     0,\n",
       "           0,     0,     0,     0,     1,     0,     0,     0,     0,\n",
       "           0,     0,     0,     0,     0,     0,     0,     0,     0,\n",
       "           0,     0,     0,     0,     0,     0,     0,     0,     1])"
      ]
     },
     "execution_count": 24,
     "metadata": {},
     "output_type": "execute_result"
    }
   ],
   "source": [
    "np.bincount(df['summary_len'])"
   ]
  },
  {
   "cell_type": "code",
   "execution_count": 25,
   "metadata": {},
   "outputs": [
    {
     "name": "stderr",
     "output_type": "stream",
     "text": [
      "Some weights of the model checkpoint at t5-small were not used when initializing T5ForConditionalGeneration: ['decoder.block.0.layer.1.EncDecAttention.relative_attention_bias.weight']\n",
      "- This IS expected if you are initializing T5ForConditionalGeneration from the checkpoint of a model trained on another task or with another architecture (e.g. initializing a BertForSequenceClassification model from a BertForPreTraining model).\n",
      "- This IS NOT expected if you are initializing T5ForConditionalGeneration from the checkpoint of a model that you expect to be exactly identical (initializing a BertForSequenceClassification model from a BertForSequenceClassification model).\n"
     ]
    }
   ],
   "source": [
    "device = torch.device('cpu')\n",
    "model = T5ForConditionalGeneration.from_pretrained('t5-small')\n",
    "tokenizer = T5Tokenizer.from_pretrained('t5-small')"
   ]
  },
  {
   "cell_type": "code",
   "execution_count": 26,
   "metadata": {},
   "outputs": [],
   "source": [
    "def summarize_text(text):\n",
    "  preprocess_text = text.strip().replace(\"\\n\",\"\")\n",
    "  t5_prepared_Text = \"summarize: \"+preprocess_text\n",
    "\n",
    "  tokenized_text = tokenizer.encode(t5_prepared_Text, return_tensors=\"pt\")\n",
    "\n",
    "\n",
    "  # summmarize \n",
    "  summary_ids = model.generate(tokenized_text,\n",
    "                                      num_beams=4,\n",
    "                                      no_repeat_ngram_size=2,\n",
    "                                      max_length=30,\n",
    "                                      early_stopping=True)\n",
    "\n",
    "  output = tokenizer.decode(summary_ids[0], skip_special_tokens=True)\n",
    "  return output"
   ]
  },
  {
   "cell_type": "code",
   "execution_count": null,
   "metadata": {},
   "outputs": [
    {
     "data": {
      "application/vnd.jupyter.widget-view+json": {
       "model_id": "fd3dbcc4fa444110ab81523a522d64aa",
       "version_major": 2,
       "version_minor": 0
      },
      "text/plain": [
       "Production Company:   0%|          | 0/194886 [00:00<?, ?it/s]"
      ]
     },
     "metadata": {},
     "output_type": "display_data"
    },
    {
     "name": "stderr",
     "output_type": "stream",
     "text": [
      "Token indices sequence length is longer than the specified maximum sequence length for this model (816 > 512). Running this sequence through the model will result in indexing errors\n"
     ]
    }
   ],
   "source": [
    "df['summary_input'] = df['summary'].progress_apply(summarize_text)"
   ]
  },
  {
   "cell_type": "code",
   "execution_count": null,
   "metadata": {},
   "outputs": [],
   "source": [
    "# df['summary_input'] = df['summary'].parallel_apply(summarize_text)"
   ]
  },
  {
   "cell_type": "code",
   "execution_count": null,
   "metadata": {},
   "outputs": [],
   "source": [
    "df.to_csv(\"data.csv\")"
   ]
  },
  {
   "cell_type": "code",
   "execution_count": null,
   "metadata": {},
   "outputs": [],
   "source": [
    "count = CountVectorizer()\n",
    "count_matrix = count.fit_transform(df['bag_of_words'])\n",
    "\n",
    "# generating the cosine similarity matrix\n",
    "cosine_sim = cosine_similarity(count_matrix, count_matrix)"
   ]
  }
 ],
 "metadata": {
  "colab": {
   "collapsed_sections": [],
   "name": "feature_engineering.ipynb",
   "provenance": [],
   "version": "0.3.2"
  },
  "kernelspec": {
   "display_name": "Python [conda env:recommender] *",
   "language": "python",
   "name": "conda-env-recommender-py"
  },
  "language_info": {
   "codemirror_mode": {
    "name": "ipython",
    "version": 3
   },
   "file_extension": ".py",
   "mimetype": "text/x-python",
   "name": "python",
   "nbconvert_exporter": "python",
   "pygments_lexer": "ipython3",
   "version": "3.7.3"
  }
 },
 "nbformat": 4,
 "nbformat_minor": 4
}
