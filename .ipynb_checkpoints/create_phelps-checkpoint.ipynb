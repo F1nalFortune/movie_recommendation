{
 "cells": [
  {
   "cell_type": "code",
   "execution_count": 1,
   "metadata": {},
   "outputs": [
    {
     "name": "stderr",
     "output_type": "stream",
     "text": [
      "/Users/brianphelps/opt/anaconda3/envs/thesis/lib/python3.8/site-packages/tqdm/std.py:668: FutureWarning: The Panel class is removed from pandas. Accessing it from the top-level namespace will also be removed in the next version\n",
      "  from pandas import Panel\n"
     ]
    }
   ],
   "source": [
    "import pandas as pd\n",
    "import numpy as np\n",
    "import datetime\n",
    "import dateutil\n",
    "from datetime import timedelta\n",
    "from collections import Counter\n",
    "pd.set_option('display.max_columns', 500)\n",
    "import ast\n",
    "from collections import Counter\n",
    "import re\n",
    "from tqdm.notebook import tqdm, tnrange\n",
    "tqdm.pandas()\n",
    "import missingno as msno\n",
    "from collections import Counter\n",
    "'''\n",
    "  GRAB THEATRE COUNT\n",
    "'''\n",
    "def createDate(row):\n",
    "  if type(row)==str:\n",
    "    return dateutil.parser.parse(row).strftime('%Y-%m-%d')\n",
    "  else:\n",
    "    return np.nan"
   ]
  },
  {
   "cell_type": "code",
   "execution_count": 2,
   "metadata": {},
   "outputs": [
    {
     "name": "stderr",
     "output_type": "stream",
     "text": [
      "/Users/brianphelps/opt/anaconda3/envs/thesis/lib/python3.8/site-packages/IPython/core/interactiveshell.py:3337: DtypeWarning: Columns (29) have mixed types.Specify dtype option on import or set low_memory=False.\n",
      "  if (await self.run_code(code, result,  async_=asy)):\n"
     ]
    }
   ],
   "source": [
    "'''\n",
    "  GRAB MOVIE DATA FROM THREADS\n",
    "'''\n",
    "\n",
    "def createDf():\n",
    "  path = \"./data//full_\"\n",
    "  paths = ['one', 'two', 'three', 'four', 'five', 'six']\n",
    "  df = pd.DataFrame()\n",
    "  for val in paths:\n",
    "    df = df.append(pd.read_csv(f\"{path}{val}.csv\"))\n",
    "  return df\n",
    "\n",
    "df = createDf()\n",
    "\n",
    "#DROP INVALID DISTRIBUTOR COLUMNS\n",
    "df = df.drop(columns=['distributor'])\n",
    "\n",
    "#DROP MOVIES WITHOUT DEPENDENT VARIABLE DATA\n",
    "# df.dropna(subset=['box_office'], inplace=True)\n",
    "\n",
    "#DROP DUPLICATE MOVIES\n",
    "df = df.drop_duplicates(subset=['profile'])\n",
    "df = df.reset_index(drop=True)"
   ]
  },
  {
   "cell_type": "code",
   "execution_count": 3,
   "metadata": {},
   "outputs": [
    {
     "data": {
      "text/plain": [
       "(367802, 42)"
      ]
     },
     "execution_count": 3,
     "metadata": {},
     "output_type": "execute_result"
    }
   ],
   "source": [
    "df.shape"
   ]
  },
  {
   "cell_type": "code",
   "execution_count": null,
   "metadata": {},
   "outputs": [],
   "source": [
    "drop_columns=['budget','box_office', 'int_office', 'runtime','director_credits','cinematographer','cin_anch','musician','musician_anchor', 'prod_designer', 'prod_designer_anchor','costume_designer','costume_designer_anchor','sequel','screen_writers','screen_anchors','screen_credits','spec_eff','sound_mix','producers','prod_credits','cast_count','comp_count','version_count','references_count']\n",
    "df=df.drop(columns=drop_columns)"
   ]
  },
  {
   "cell_type": "code",
   "execution_count": null,
   "metadata": {},
   "outputs": [],
   "source": [
    "df.head()"
   ]
  },
  {
   "cell_type": "code",
   "execution_count": null,
   "metadata": {},
   "outputs": [],
   "source": [
    "msno.bar(df)"
   ]
  },
  {
   "cell_type": "code",
   "execution_count": null,
   "metadata": {},
   "outputs": [],
   "source": [
    "import seaborn as sns\n",
    "df['summary_len']"
   ]
  },
  {
   "cell_type": "code",
   "execution_count": 56,
   "metadata": {},
   "outputs": [
    {
     "data": {
      "text/plain": [
       "[('Add a Plot\\xa0»', 146808),\n",
       " ('Plot unknown.', 110),\n",
       " ('Plot kept under wraps.', 18),\n",
       " ('The plot is unknown at this time.', 15),\n",
       " (\"Hamlet suspects his uncle has murdered his father to claim the throne of Denmark and the hand of Hamlet's mother, but the prince cannot decide whether or not he should take vengeance.\",\n",
       "  13),\n",
       " ('Macbeth, the Thane of Glamis, receives a prophecy from a trio of witches that one day he will become King of Scotland. Consumed by ambition and spurred to action by his wife, Macbeth murders his king and takes the throne for himself.',\n",
       "  11),\n",
       " ('The Moorish general Othello is manipulated into thinking that his new wife Desdemona has been carrying on an affair with his lieutenant Michael Cassio when in reality it is all part of the scheme of a bitter ensign named Iago.',\n",
       "  9),\n",
       " ('Two teenagers fall in love, but their feuding families and fate itself cause the relationship to end in tragedy.',\n",
       "  9),\n",
       " ('The plot is unknown.', 9),\n",
       " ('An orphan named Oliver Twist meets a pickpocket on the streets of London. From there, he joins a household of boys who are trained to steal for their master.',\n",
       "  8),\n",
       " ('Two episodes of the TV series \"Wild Bill Hickok\" edited together and released as a feature.',\n",
       "  8),\n",
       " ('Young lovers Hero and Claudio, soon to wed, conspire to get verbal sparring partners and confirmed singles Benedick and Beatrice to wed as well.',\n",
       "  7),\n",
       " ('Plot is unknown.', 7),\n",
       " (\"Mistaken identity, unrequited love, and the supernatural are combined in Shakespeare's classic set in the woods of Greece on a moonlit night.\",\n",
       "  7),\n",
       " ('After a harsh childhood, orphan Jane Eyre is hired by Edward Rochester, the brooding lord of a mysterious manor house, to care for his young daughter.',\n",
       "  7),\n",
       " ('FOR ADULTS ONLY.', 7),\n",
       " (\"Short animation film from the series 'Garabatos'.\", 7),\n",
       " ('Dr. Henry Jekyll experiments with scientific means of revealing the hidden, dark side of man and releases a murderer from within himself.',\n",
       "  6),\n",
       " ('Plot is unknown at this time.', 6),\n",
       " ('Emil goes to Berlin to see his grandmother with a large amount of money and is offered sweets by a strange man that make him sleep. He wakes up at his stop with no money. It is up to him and a group of children to save the day.',\n",
       "  6),\n",
       " ('Based on the SEGA video game title.', 6),\n",
       " (\"D'Artagnan and his musketeer comrades must thwart the plans of Cardinal Richelieu to usurp King Louis XIII's power.\",\n",
       "  6),\n",
       " ('The plot is currently unknown.', 5),\n",
       " ('Plot is being kept under wraps.', 5),\n",
       " ('When a nobleman is threatened by a family curse on his newly inherited estate, Sherlock Holmes is hired to investigate.',\n",
       "  5),\n",
       " (\"A poor boy named Tom Canty and Edward, the Prince of Wales exchange identities but events force the pair to experience each other's lives as well.\",\n",
       "  5),\n",
       " (\"Lonely youth Shinji meets Hatsue, a pretty pearl diver, on the beach and the two fall in love. But Shinji has a rival for Hatsue's affections, Yasuo. Yasuo spreads unpleasant gossip about ...\\n                    See full summary\\xa0»\",\n",
       "  5),\n",
       " ('During World War II, a teenage Jewish girl named Anne Frank and her family are forced into hiding in the Nazi-occupied Netherlands.',\n",
       "  4),\n",
       " ('Desperate measures are taken by a man who tries to save his family from the dark side of the law, after they commit an unexpected crime.',\n",
       "  4),\n",
       " ('Katusha, a country girl, is seduced and abandoned by Prince Nekludov. Nekludov finds himself, years later, on a jury trying the same Katusha for a crime he now realizes his actions drove ...\\n                    See full summary\\xa0»',\n",
       "  4)]"
      ]
     },
     "execution_count": 56,
     "metadata": {},
     "output_type": "execute_result"
    }
   ],
   "source": [
    "Counter(df['summary'].dropna()).most_common(30)"
   ]
  },
  {
   "cell_type": "code",
   "execution_count": 46,
   "metadata": {},
   "outputs": [
    {
     "data": {
      "text/html": [
       "        <script type=\"text/javascript\">\n",
       "        window.PlotlyConfig = {MathJaxConfig: 'local'};\n",
       "        if (window.MathJax) {MathJax.Hub.Config({SVG: {font: \"STIX-Web\"}});}\n",
       "        if (typeof require !== 'undefined') {\n",
       "        require.undef(\"plotly\");\n",
       "        requirejs.config({\n",
       "            paths: {\n",
       "                'plotly': ['https://cdn.plot.ly/plotly-latest.min']\n",
       "            }\n",
       "        });\n",
       "        require(['plotly'], function(Plotly) {\n",
       "            window._Plotly = Plotly;\n",
       "        });\n",
       "        }\n",
       "        </script>\n",
       "        "
      ]
     },
     "metadata": {},
     "output_type": "display_data"
    }
   ],
   "source": [
    "import pandas as pd\n",
    "import numpy as np\n",
    "from nltk.corpus import stopwords\n",
    "from sklearn.metrics.pairwise import linear_kernel\n",
    "from sklearn.feature_extraction.text import CountVectorizer\n",
    "from sklearn.feature_extraction.text import TfidfVectorizer\n",
    "from sklearn.decomposition import LatentDirichletAllocation\n",
    "import re\n",
    "import random\n",
    "import chart_studio.graph_objs as go\n",
    "import chart_studio.plotly as py\n",
    "import cufflinks\n",
    "pd.options.display.max_columns = 30\n",
    "from IPython.core.interactiveshell import InteractiveShell\n",
    "import plotly.figure_factory as ff\n",
    "InteractiveShell.ast_node_interactivity = 'all'\n",
    "from plotly.offline import iplot\n",
    "cufflinks.go_offline()\n",
    "cufflinks.set_config_file(world_readable=True, theme='solar')"
   ]
  },
  {
   "cell_type": "code",
   "execution_count": 53,
   "metadata": {},
   "outputs": [
    {
     "data": {
      "text/html": [
       "<div>\n",
       "<style scoped>\n",
       "    .dataframe tbody tr th:only-of-type {\n",
       "        vertical-align: middle;\n",
       "    }\n",
       "\n",
       "    .dataframe tbody tr th {\n",
       "        vertical-align: top;\n",
       "    }\n",
       "\n",
       "    .dataframe thead th {\n",
       "        text-align: right;\n",
       "    }\n",
       "</style>\n",
       "<table border=\"1\" class=\"dataframe\">\n",
       "  <thead>\n",
       "    <tr style=\"text-align: right;\">\n",
       "      <th></th>\n",
       "      <th>desc</th>\n",
       "      <th>count</th>\n",
       "    </tr>\n",
       "  </thead>\n",
       "  <tbody>\n",
       "    <tr>\n",
       "      <th>0</th>\n",
       "      <td>the</td>\n",
       "      <td>274307</td>\n",
       "    </tr>\n",
       "    <tr>\n",
       "      <th>1</th>\n",
       "      <td>to</td>\n",
       "      <td>162936</td>\n",
       "    </tr>\n",
       "    <tr>\n",
       "      <th>2</th>\n",
       "      <td>of</td>\n",
       "      <td>160812</td>\n",
       "    </tr>\n",
       "    <tr>\n",
       "      <th>3</th>\n",
       "      <td>and</td>\n",
       "      <td>149960</td>\n",
       "    </tr>\n",
       "    <tr>\n",
       "      <th>4</th>\n",
       "      <td>plot</td>\n",
       "      <td>148316</td>\n",
       "    </tr>\n",
       "    <tr>\n",
       "      <th>5</th>\n",
       "      <td>add</td>\n",
       "      <td>146886</td>\n",
       "    </tr>\n",
       "    <tr>\n",
       "      <th>6</th>\n",
       "      <td>in</td>\n",
       "      <td>122313</td>\n",
       "    </tr>\n",
       "    <tr>\n",
       "      <th>7</th>\n",
       "      <td>is</td>\n",
       "      <td>91328</td>\n",
       "    </tr>\n",
       "    <tr>\n",
       "      <th>8</th>\n",
       "      <td>his</td>\n",
       "      <td>88662</td>\n",
       "    </tr>\n",
       "    <tr>\n",
       "      <th>9</th>\n",
       "      <td>see</td>\n",
       "      <td>73759</td>\n",
       "    </tr>\n",
       "    <tr>\n",
       "      <th>10</th>\n",
       "      <td>full</td>\n",
       "      <td>73634</td>\n",
       "    </tr>\n",
       "    <tr>\n",
       "      <th>11</th>\n",
       "      <td>summary</td>\n",
       "      <td>70821</td>\n",
       "    </tr>\n",
       "    <tr>\n",
       "      <th>12</th>\n",
       "      <td>with</td>\n",
       "      <td>54139</td>\n",
       "    </tr>\n",
       "    <tr>\n",
       "      <th>13</th>\n",
       "      <td>her</td>\n",
       "      <td>53294</td>\n",
       "    </tr>\n",
       "    <tr>\n",
       "      <th>14</th>\n",
       "      <td>he</td>\n",
       "      <td>48986</td>\n",
       "    </tr>\n",
       "    <tr>\n",
       "      <th>15</th>\n",
       "      <td>an</td>\n",
       "      <td>46192</td>\n",
       "    </tr>\n",
       "    <tr>\n",
       "      <th>16</th>\n",
       "      <td>for</td>\n",
       "      <td>40060</td>\n",
       "    </tr>\n",
       "    <tr>\n",
       "      <th>17</th>\n",
       "      <td>who</td>\n",
       "      <td>38596</td>\n",
       "    </tr>\n",
       "    <tr>\n",
       "      <th>18</th>\n",
       "      <td>on</td>\n",
       "      <td>37509</td>\n",
       "    </tr>\n",
       "    <tr>\n",
       "      <th>19</th>\n",
       "      <td>by</td>\n",
       "      <td>37310</td>\n",
       "    </tr>\n",
       "  </tbody>\n",
       "</table>\n",
       "</div>"
      ],
      "text/plain": [
       "       desc   count\n",
       "0       the  274307\n",
       "1        to  162936\n",
       "2        of  160812\n",
       "3       and  149960\n",
       "4      plot  148316\n",
       "5       add  146886\n",
       "6        in  122313\n",
       "7        is   91328\n",
       "8       his   88662\n",
       "9       see   73759\n",
       "10     full   73634\n",
       "11  summary   70821\n",
       "12     with   54139\n",
       "13      her   53294\n",
       "14       he   48986\n",
       "15       an   46192\n",
       "16      for   40060\n",
       "17      who   38596\n",
       "18       on   37509\n",
       "19       by   37310"
      ]
     },
     "execution_count": 53,
     "metadata": {},
     "output_type": "execute_result"
    }
   ],
   "source": [
    "def get_top_n_words(corpus, n=None):\n",
    "  vec = CountVectorizer().fit(corpus)\n",
    "  bag_of_words = vec.transform(corpus)\n",
    "  sum_words = bag_of_words.sum(axis=0) \n",
    "  words_freq = [(word, sum_words[0, idx]) for word, idx in vec.vocabulary_.items()]\n",
    "  words_freq =sorted(words_freq, key = lambda x: x[1], reverse=True)\n",
    "  return words_freq[:n]\n",
    "common_words = get_top_n_words(df['summary'].dropna(), 20)\n",
    "df1 = pd.DataFrame(common_words, columns = ['desc' , 'count'])\n",
    "df1.head(20)"
   ]
  },
  {
   "cell_type": "code",
   "execution_count": 55,
   "metadata": {},
   "outputs": [
    {
     "data": {
      "text/html": [
       "<div>\n",
       "<style scoped>\n",
       "    .dataframe tbody tr th:only-of-type {\n",
       "        vertical-align: middle;\n",
       "    }\n",
       "\n",
       "    .dataframe tbody tr th {\n",
       "        vertical-align: top;\n",
       "    }\n",
       "\n",
       "    .dataframe thead th {\n",
       "        text-align: right;\n",
       "    }\n",
       "</style>\n",
       "<table border=\"1\" class=\"dataframe\">\n",
       "  <thead>\n",
       "    <tr style=\"text-align: right;\">\n",
       "      <th></th>\n",
       "      <th>desc</th>\n",
       "      <th>count</th>\n",
       "    </tr>\n",
       "  </thead>\n",
       "  <tbody>\n",
       "    <tr>\n",
       "      <th>0</th>\n",
       "      <td>plot</td>\n",
       "      <td>148316</td>\n",
       "    </tr>\n",
       "    <tr>\n",
       "      <th>1</th>\n",
       "      <td>add</td>\n",
       "      <td>146886</td>\n",
       "    </tr>\n",
       "    <tr>\n",
       "      <th>2</th>\n",
       "      <td>summary</td>\n",
       "      <td>70821</td>\n",
       "    </tr>\n",
       "    <tr>\n",
       "      <th>3</th>\n",
       "      <td>young</td>\n",
       "      <td>24506</td>\n",
       "    </tr>\n",
       "    <tr>\n",
       "      <th>4</th>\n",
       "      <td>life</td>\n",
       "      <td>20672</td>\n",
       "    </tr>\n",
       "    <tr>\n",
       "      <th>5</th>\n",
       "      <td>man</td>\n",
       "      <td>19702</td>\n",
       "    </tr>\n",
       "    <tr>\n",
       "      <th>6</th>\n",
       "      <td>love</td>\n",
       "      <td>17078</td>\n",
       "    </tr>\n",
       "    <tr>\n",
       "      <th>7</th>\n",
       "      <td>story</td>\n",
       "      <td>14746</td>\n",
       "    </tr>\n",
       "    <tr>\n",
       "      <th>8</th>\n",
       "      <td>woman</td>\n",
       "      <td>13348</td>\n",
       "    </tr>\n",
       "    <tr>\n",
       "      <th>9</th>\n",
       "      <td>family</td>\n",
       "      <td>12738</td>\n",
       "    </tr>\n",
       "    <tr>\n",
       "      <th>10</th>\n",
       "      <td>film</td>\n",
       "      <td>12489</td>\n",
       "    </tr>\n",
       "    <tr>\n",
       "      <th>11</th>\n",
       "      <td>new</td>\n",
       "      <td>11207</td>\n",
       "    </tr>\n",
       "    <tr>\n",
       "      <th>12</th>\n",
       "      <td>girl</td>\n",
       "      <td>11136</td>\n",
       "    </tr>\n",
       "    <tr>\n",
       "      <th>13</th>\n",
       "      <td>old</td>\n",
       "      <td>10733</td>\n",
       "    </tr>\n",
       "    <tr>\n",
       "      <th>14</th>\n",
       "      <td>father</td>\n",
       "      <td>10344</td>\n",
       "    </tr>\n",
       "    <tr>\n",
       "      <th>15</th>\n",
       "      <td>world</td>\n",
       "      <td>9022</td>\n",
       "    </tr>\n",
       "    <tr>\n",
       "      <th>16</th>\n",
       "      <td>wife</td>\n",
       "      <td>8962</td>\n",
       "    </tr>\n",
       "    <tr>\n",
       "      <th>17</th>\n",
       "      <td>friends</td>\n",
       "      <td>8280</td>\n",
       "    </tr>\n",
       "    <tr>\n",
       "      <th>18</th>\n",
       "      <td>lives</td>\n",
       "      <td>8204</td>\n",
       "    </tr>\n",
       "    <tr>\n",
       "      <th>19</th>\n",
       "      <td>years</td>\n",
       "      <td>7933</td>\n",
       "    </tr>\n",
       "  </tbody>\n",
       "</table>\n",
       "</div>"
      ],
      "text/plain": [
       "       desc   count\n",
       "0      plot  148316\n",
       "1       add  146886\n",
       "2   summary   70821\n",
       "3     young   24506\n",
       "4      life   20672\n",
       "5       man   19702\n",
       "6      love   17078\n",
       "7     story   14746\n",
       "8     woman   13348\n",
       "9    family   12738\n",
       "10     film   12489\n",
       "11      new   11207\n",
       "12     girl   11136\n",
       "13      old   10733\n",
       "14   father   10344\n",
       "15    world    9022\n",
       "16     wife    8962\n",
       "17  friends    8280\n",
       "18    lives    8204\n",
       "19    years    7933"
      ]
     },
     "execution_count": 55,
     "metadata": {},
     "output_type": "execute_result"
    }
   ],
   "source": [
    "def get_top_n_words(corpus, n=None):\n",
    "  vec = CountVectorizer(stop_words='english').fit(corpus)\n",
    "  bag_of_words = vec.transform(corpus)\n",
    "  sum_words = bag_of_words.sum(axis=0) \n",
    "  words_freq = [(word, sum_words[0, idx]) for word, idx in vec.vocabulary_.items()]\n",
    "  words_freq =sorted(words_freq, key = lambda x: x[1], reverse=True)\n",
    "  return words_freq[:n]\n",
    "common_words = get_top_n_words(df['summary'].dropna(), 20)\n",
    "df2 = pd.DataFrame(common_words, columns = ['desc' , 'count'])\n",
    "df2.head(20)"
   ]
  },
  {
   "cell_type": "code",
   "execution_count": 10,
   "metadata": {},
   "outputs": [
    {
     "data": {
      "application/vnd.jupyter.widget-view+json": {
       "model_id": "99a20488c24b42709a5d885b89753608",
       "version_major": 2,
       "version_minor": 0
      },
      "text/plain": [
       "HBox(children=(IntProgress(value=0, max=20), HTML(value='')))"
      ]
     },
     "metadata": {},
     "output_type": "display_data"
    },
    {
     "name": "stderr",
     "output_type": "stream",
     "text": [
      "c:\\users\\brian\\anaconda3\\lib\\site-packages\\tqdm\\std.py:648: FutureWarning: The Panel class is removed from pandas. Accessing it from the top-level namespace will also be removed in the next version\n",
      "  from pandas import Panel\n"
     ]
    },
    {
     "name": "stdout",
     "output_type": "stream",
     "text": [
      "\n"
     ]
    }
   ],
   "source": [
    "'''\n",
    "  CONVERT COLUMNS TO LISTS\n",
    "'''\n",
    "import ast\n",
    "\n",
    "def cleanColumn(row):\n",
    "  try:\n",
    "    if type(row)==str:\n",
    "      values = ast.literal_eval(row)\n",
    "      if type(values)!=dict:\n",
    "        cleaned_values=[]\n",
    "        for val in values:\n",
    "          val = val.replace(\",\", \"\").strip()\n",
    "          cleaned_values.append(val)\n",
    "        return cleaned_values\n",
    "      else:\n",
    "        return values\n",
    "    else:\n",
    "      return np.nan\n",
    "  except:\n",
    "    return np.nan\n",
    "\n",
    "columns = ['sequel',\n",
    "'cast_members',\n",
    "'cast_anchors',\n",
    "'directors',\n",
    "'director_anchors',\n",
    "'director_credits',\n",
    "'pro_comp',\n",
    "'spec_eff',\n",
    "'sound_mix',\n",
    "'stars',\n",
    "'star_anchs',\n",
    "'screen_writers',\n",
    "'screen_anchors',\n",
    "'screen_credits',\n",
    "'producers',\n",
    "'prod_anchors',\n",
    "'prod_credits',\n",
    "'genre',\n",
    "'comp_count',\n",
    "'cast_count']\n",
    "\n",
    "for value in tqdm(columns):\n",
    "  tqdm.pandas(desc=\"Creating Datetime\")\n",
    "  df[value] = df[value].apply(cleanColumn)\n",
    "\n",
    "df['cast'] = df['cast_members']\n",
    "df = df.drop(columns=['cast_members', 'sequels'])"
   ]
  },
  {
   "cell_type": "code",
   "execution_count": 4,
   "metadata": {},
   "outputs": [
    {
     "data": {
      "application/vnd.jupyter.widget-view+json": {
       "model_id": "28ee07b081914326a5c32c2d25e6173a",
       "version_major": 2,
       "version_minor": 0
      },
      "text/plain": [
       "HBox(children=(IntProgress(value=0, description='Creating Date', max=367803, style=ProgressStyle(description_w…"
      ]
     },
     "metadata": {},
     "output_type": "display_data"
    },
    {
     "name": "stdout",
     "output_type": "stream",
     "text": [
      "\n"
     ]
    },
    {
     "data": {
      "application/vnd.jupyter.widget-view+json": {
       "model_id": "e82e3d3df9c84381b2e96d8a219ae740",
       "version_major": 2,
       "version_minor": 0
      },
      "text/plain": [
       "HBox(children=(IntProgress(value=0, description='Creating Datetime', max=271994, style=ProgressStyle(descripti…"
      ]
     },
     "metadata": {},
     "output_type": "display_data"
    },
    {
     "name": "stdout",
     "output_type": "stream",
     "text": [
      "\n"
     ]
    },
    {
     "data": {
      "application/vnd.jupyter.widget-view+json": {
       "model_id": "73b05490e8cb4ca690c8b22a9afd47eb",
       "version_major": 2,
       "version_minor": 0
      },
      "text/plain": [
       "HBox(children=(IntProgress(value=0, description='Creating Year Column', max=271994, style=ProgressStyle(descri…"
      ]
     },
     "metadata": {},
     "output_type": "display_data"
    },
    {
     "name": "stdout",
     "output_type": "stream",
     "text": [
      "\n"
     ]
    },
    {
     "data": {
      "application/vnd.jupyter.widget-view+json": {
       "model_id": "9c65b41071fb4c8da74cc322c76764a4",
       "version_major": 2,
       "version_minor": 0
      },
      "text/plain": [
       "HBox(children=(IntProgress(value=0, description='Creating Month Column', max=271994, style=ProgressStyle(descr…"
      ]
     },
     "metadata": {},
     "output_type": "display_data"
    },
    {
     "name": "stdout",
     "output_type": "stream",
     "text": [
      "\n"
     ]
    }
   ],
   "source": [
    "'''\n",
    "  CONVERT DATE INTO ISO FORMAT\n",
    "'''\n",
    "def createDates(row):\n",
    "  if type(row)==str:\n",
    "    return dateutil.parser.parse(row).strftime('%Y-%m-%d')\n",
    "  else:\n",
    "    return np.nan\n",
    "\n",
    "def createDateTime(row):\n",
    "  row = row.split(\"-\")\n",
    "  row = datetime.datetime(int(row[0]), int(row[1]), int(row[2]))\n",
    "  return row\n",
    "\n",
    "tqdm.pandas(desc=\"Creating Date\")\n",
    "df['date'] = df['release'].progress_apply(createDates)\n",
    "df = df.dropna(subset=['date'])\n",
    "df = df.reset_index(drop=True)\n",
    "\n",
    "tqdm.pandas(desc=\"Creating Datetime\")\n",
    "df['datetime'] = df['date'].progress_apply(createDateTime)\n",
    "tqdm.pandas(desc=\"Creating Year Column\")\n",
    "df['year'] = df['datetime'].progress_apply(lambda x: x.year)\n",
    "tqdm.pandas(desc=\"Creating Month Column\")\n",
    "df['month'] = df['datetime'].progress_apply(lambda x: x.month)"
   ]
  },
  {
   "cell_type": "code",
   "execution_count": 7,
   "metadata": {},
   "outputs": [
    {
     "data": {
      "application/vnd.jupyter.widget-view+json": {
       "model_id": "ead28924fd5f4cb5b0070f07e9bf4e4a",
       "version_major": 2,
       "version_minor": 0
      },
      "text/plain": [
       "HBox(children=(IntProgress(value=0, description='Production Company', max=271994, style=ProgressStyle(descript…"
      ]
     },
     "metadata": {},
     "output_type": "display_data"
    },
    {
     "name": "stdout",
     "output_type": "stream",
     "text": [
      "\n"
     ]
    }
   ],
   "source": [
    "def mainProd(row):\n",
    "  try:\n",
    "    return row[0]\n",
    "  except:\n",
    "    return np.nan\n",
    "tqdm.pandas(desc=\"Production Company\")\n",
    "df['main_prod'] = df['pro_comp'].progress_apply(mainProd)"
   ]
  }
 ],
 "metadata": {
  "colab": {
   "collapsed_sections": [],
   "name": "feature_engineering.ipynb",
   "provenance": [],
   "version": "0.3.2"
  },
  "kernelspec": {
   "display_name": "Python 3",
   "language": "python",
   "name": "python3"
  },
  "language_info": {
   "codemirror_mode": {
    "name": "ipython",
    "version": 3
   },
   "file_extension": ".py",
   "mimetype": "text/x-python",
   "name": "python",
   "nbconvert_exporter": "python",
   "pygments_lexer": "ipython3",
   "version": "3.8.5"
  }
 },
 "nbformat": 4,
 "nbformat_minor": 4
}
