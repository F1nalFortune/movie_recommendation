{
 "cells": [
  {
   "cell_type": "code",
   "execution_count": 1,
   "metadata": {},
   "outputs": [],
   "source": [
    "from requests import get\n",
    "from bs4 import BeautifulSoup\n",
    "import re\n",
    "import pandas as pd\n",
    "from time import sleep\n",
    "from random import randint\n",
    "from time import time\n",
    "from IPython.core.display import clear_output\n",
    "from warnings import warn\n",
    "import pandas as pd\n",
    "import numpy as np\n",
    "import math\n",
    "import os\n",
    "import unicodedata\n",
    "import string\n",
    "import time\n",
    "from functools import wraps\n",
    "from colorama import Fore\n",
    "from selenium import webdriver\n",
    "from selenium.webdriver.common.keys import Keys\n",
    "from selenium.webdriver.common.by import By\n",
    "from selenium.webdriver.support.ui import WebDriverWait\n",
    "from selenium.webdriver.support import expected_conditions as EC\n",
    "from selenium.common.exceptions import TimeoutException\n",
    "from selenium.common.exceptions import ElementNotVisibleException\n",
    "from requests import ReadTimeout, ConnectTimeout, HTTPError, Timeout, ConnectionError\n",
    "import datetime\n",
    "from dateutil.parser import parse"
   ]
  },
  {
   "cell_type": "code",
   "execution_count": 2,
   "metadata": {},
   "outputs": [],
   "source": [
    "import pandas as pd\n",
    "import numpy as np\n",
    "import datetime\n",
    "import dateutil\n",
    "from datetime import timedelta\n",
    "from IPython.core.display import clear_output\n",
    "from collections import Counter\n",
    "pd.set_option('display.max_columns', 500)\n",
    "import ast\n",
    "from collections import Counter\n",
    "import re\n",
    "from tqdm.notebook import tqdm, tnrange\n",
    "tqdm.pandas()\n",
    "\n",
    "from PIL import Image\n",
    "import requests\n",
    "import bs4"
   ]
  },
  {
   "cell_type": "code",
   "execution_count": 3,
   "metadata": {},
   "outputs": [],
   "source": [
    "def retry(ExceptionToCheck, tries=20, delay=3, backoff=2, logger=None):\n",
    "    \"\"\"Retry calling the decorated function using an exponential backoff.\n",
    "\n",
    "    http://www.saltycrane.com/blog/2009/11/trying-out-retry-decorator-python/\n",
    "    original from: http://wiki.python.org/moin/PythonDecoratorLibrary#Retry\n",
    "    \n",
    "    :param ExceptionToCheck: the exception to check. may be a tuple of\n",
    "        exceptions to check\n",
    "    :type ExceptionToCheck: Exception or tuple\n",
    "    :param tries: number of times to try (not retry) before giving up\n",
    "    :type tries: int\n",
    "    :param delay: initial delay between retries in seconds\n",
    "    :type delay: int\n",
    "    :param backoff: backoff multiplier e.g. value of 2 will double the delay\n",
    "        each retry\n",
    "    :type backoff: int\n",
    "    :param logger: logger to use. If None, print\n",
    "    :type logger: logging.Logger instance\n",
    "    \"\"\"\n",
    "    def deco_retry(f):\n",
    "\n",
    "        @wraps(f)\n",
    "        def f_retry(*args, **kwargs):\n",
    "            mtries, mdelay = tries, delay\n",
    "            while mtries > 1:\n",
    "                try:\n",
    "                    return f(*args, **kwargs)\n",
    "                except ExceptionToCheck:\n",
    "                    msg = \"%s, Retrying in %d seconds...\" % (str(ExceptionToCheck), mdelay)\n",
    "                    if logger:\n",
    "                        #logger.exception(msg) # would print stack trace\n",
    "                        logger.warning(msg)\n",
    "                    else:\n",
    "                        print(msg)\n",
    "                    time.sleep(mdelay)\n",
    "                    mtries -= 1\n",
    "                    mdelay *= backoff\n",
    "            return f(*args, **kwargs)\n",
    "\n",
    "        return f_retry  # true decorator\n",
    "\n",
    "    return deco_retry  "
   ]
  },
  {
   "cell_type": "code",
   "execution_count": 4,
   "metadata": {},
   "outputs": [],
   "source": [
    "options = webdriver.ChromeOptions()\n",
    "options.add_argument(\"no-sandbox\")\n",
    "options.add_argument(\"disable-dev-shm-usage\")\n",
    "options.add_argument(\"headless\")\n",
    "options.add_argument(\"user-data-dir=/Users/brianphelps/Library/Application Support/Google/Chrome/Thread_Four\")"
   ]
  },
  {
   "cell_type": "code",
   "execution_count": 5,
   "metadata": {},
   "outputs": [],
   "source": [
    "# Store data in lists\n",
    "def scrapeMovies(data, saved_data=False):\n",
    "  #for every page\n",
    "  count=0\n",
    "  if type(saved_data)!=bool:\n",
    "    add_feats = saved_data\n",
    "    data = data.iloc[len(add_feats):]\n",
    "  else:\n",
    "    add_feats = pd.DataFrame()\n",
    "  for row in data.itertuples():\n",
    "    name = row.name\n",
    "    year = row.Year\n",
    "    profile = row.profile\n",
    "    count+=1\n",
    "\n",
    "    link = f\"https://www.imdb.com{profile}\"\n",
    "    \n",
    "    @retry((ConnectionResetError, ReadTimeout, ConnectTimeout, HTTPError, Timeout, ConnectionError), tries=20, delay=2,backoff=2)\n",
    "    def get_response():\n",
    "      response = get(link)\n",
    "      return response\n",
    "    response = get_response()\n",
    "\n",
    "    # parse the content of request\n",
    "    page_html = BeautifulSoup(response.text, 'html.parser')\n",
    "\n",
    "    print(Fore.GREEN + f\"{name}({count})\")\n",
    "\n",
    "    '''\n",
    "      GRAB PLOT SYNOPSIS\n",
    "    '''\n",
    "    synopsis_link = profile\n",
    "    @retry((ConnectionResetError, ReadTimeout, ConnectTimeout, HTTPError, Timeout, ConnectionError), tries=20, delay=2, backoff=2)\n",
    "    def get_synopsis():\n",
    "      synopsis = get(\"https://www.imdb.com/\" + synopsis_link + \"plotsummary\")\n",
    "      return synopsis\n",
    "    synopsis = get_synopsis()\n",
    "    synopsis_html = BeautifulSoup(synopsis.text, 'html.parser')\n",
    "    \n",
    "    try:\n",
    "      plot_synopsis_content = synopsis_html.find(\"ul\", {\"id\": \"plot-synopsis-content\"}).li.text\n",
    "      plot_synopsis_content = plot_synopsis_content.strip()\n",
    "      if plot_synopsis_content[:58] != \"It looks like we don't have a Synopsis for this title yet.\":\n",
    "        print(Fore.GREEN + 'Plot Synopsis')\n",
    "      else:\n",
    "        plot_synopsis_content = np.nan\n",
    "        print(Fore.RED + 'Plot Synopsis')\n",
    "    except:\n",
    "      plot_synopsis_content = np.nan\n",
    "      print(Fore.RED + 'Plot Synopsis')\n",
    "    '''\n",
    "        GRAB SUMMARIES\n",
    "    '''\n",
    "\n",
    "    try:\n",
    "      summary_bucket = []\n",
    "      summaries = synopsis_html.find('ul', attrs={\"id\":\"plot-summaries-content\"}).find_all('li')\n",
    "      for summary in summaries:\n",
    "        result = summary.p.text.strip()\n",
    "        summary_bucket.append(result)\n",
    "      summaries = summary_bucket\n",
    "      print(Fore.GREEN + f'Summaries: {len(summary_bucket)}')\n",
    "    except:\n",
    "      summaries = np.nan\n",
    "      print(Fore.RED + 'Summary')\n",
    "\n",
    "   \n",
    "    '''\n",
    "      MOVIE POSTER\n",
    "    '''\n",
    "    driver = webdriver.Chrome(\"/Users/brianphelps/Desktop/chromedriver\", chrome_options=options)\n",
    "    try:\n",
    "      image_url = f\"https://www.imdb.com/{page_html.find('div', class_='poster').a['href']}\"\n",
    "      @retry((ConnectionResetError, ReadTimeout, ConnectTimeout, HTTPError, Timeout, ConnectionError), tries=20, delay=2,backoff=2)\n",
    "      def get_response(link):\n",
    "        driver.get(link)\n",
    "      get_response(image_url)\n",
    "      poster_html = BeautifulSoup(driver.page_source, 'html.parser')\n",
    "      \n",
    "      try:\n",
    "        image_url = poster_html.find_all('div', class_='pswp__item')[1].find('img', class_='pswp__img')['src']\n",
    "      except:\n",
    "        image_url = poster_html.find_all('img')[1]['src']\n",
    "      \n",
    "      movie_name = name.replace(\" \", \"_\")\n",
    "      \n",
    "      img = Image.open(requests.get(image_url, stream = True).raw)\n",
    "      try:\n",
    "        img.save(f'./posters/{movie_name}_{year}.jpg')\n",
    "      except:\n",
    "        img.convert('RGB').save(f'./posters/{movie_name}_{year}.jpg')\n",
    "        \n",
    "      poster = f\"./posters/{movie_name}_{year}.jpg\"\n",
    "      print(Fore.GREEN + 'Poster')\n",
    "    except Exception as e:\n",
    "      poster = np.nan\n",
    "      print(e)\n",
    "      print(Fore.RED + 'Poster')\n",
    "      \n",
    "    driver.quit()\n",
    "    movie = pd.DataFrame({\n",
    "      'name': [name],\n",
    "      'profile': [profile],\n",
    "      'synopsis': [plot_synopsis_content],\n",
    "      'summaries': [summaries],\n",
    "      'poster': [poster]\n",
    "    })\n",
    "    add_feats = add_feats.append(movie, ignore_index=True)\n",
    "    add_feats.to_csv(f\"./add_feats.csv\", index=False)\n",
    "    print(f\"Movies:  {len(add_feats)}\")\n",
    "    clear_output(wait = True)\n",
    "  return add_feats"
   ]
  },
  {
   "cell_type": "code",
   "execution_count": 6,
   "metadata": {},
   "outputs": [],
   "source": [
    "from requests import get\n",
    "from bs4 import BeautifulSoup\n",
    "import re\n",
    "import pandas as pd\n",
    "from time import sleep\n",
    "from random import randint\n",
    "from time import time\n",
    "from IPython.core.display import clear_output\n",
    "from warnings import warn\n",
    "import pandas as pd\n",
    "import numpy as np\n",
    "import math\n",
    "import os\n",
    "import unicodedata\n",
    "import string\n",
    "import time\n",
    "from functools import wraps\n",
    "from colorama import Fore\n",
    "from requests import ReadTimeout, ConnectTimeout, HTTPError, Timeout, ConnectionError"
   ]
  },
  {
   "cell_type": "code",
   "execution_count": 7,
   "metadata": {},
   "outputs": [
    {
     "name": "stderr",
     "output_type": "stream",
     "text": [
      "/opt/anaconda3/envs/boxoffice/lib/python3.7/site-packages/IPython/core/interactiveshell.py:3319: DtypeWarning: Columns (29) have mixed types. Specify dtype option on import or set low_memory=False.\n",
      "  exec(code_obj, self.user_global_ns, self.user_ns)\n"
     ]
    },
    {
     "data": {
      "application/vnd.jupyter.widget-view+json": {
       "model_id": "ecbd8b99c72c4b819f4f2c57c800015e",
       "version_major": 2,
       "version_minor": 0
      },
      "text/plain": [
       "HBox(children=(FloatProgress(value=0.0, max=367802.0), HTML(value='')))"
      ]
     },
     "metadata": {},
     "output_type": "display_data"
    },
    {
     "name": "stdout",
     "output_type": "stream",
     "text": [
      "\n"
     ]
    },
    {
     "data": {
      "application/vnd.jupyter.widget-view+json": {
       "model_id": "71b307aa83f847aabffb0e1bdc3b767d",
       "version_major": 2,
       "version_minor": 0
      },
      "text/plain": [
       "HBox(children=(FloatProgress(value=0.0, max=20.0), HTML(value='')))"
      ]
     },
     "metadata": {},
     "output_type": "display_data"
    },
    {
     "name": "stdout",
     "output_type": "stream",
     "text": [
      "\n"
     ]
    },
    {
     "data": {
      "application/vnd.jupyter.widget-view+json": {
       "model_id": "b7c3d25c8c2a4ac7b89a01bd2e17ee98",
       "version_major": 2,
       "version_minor": 0
      },
      "text/plain": [
       "HBox(children=(FloatProgress(value=0.0, description='Creating Date', max=367802.0, style=ProgressStyle(descrip…"
      ]
     },
     "metadata": {},
     "output_type": "display_data"
    },
    {
     "name": "stdout",
     "output_type": "stream",
     "text": [
      "\n"
     ]
    },
    {
     "data": {
      "application/vnd.jupyter.widget-view+json": {
       "model_id": "f2dc6726e0fa4c3b8b89a647c02eafa2",
       "version_major": 2,
       "version_minor": 0
      },
      "text/plain": [
       "HBox(children=(FloatProgress(value=0.0, description='Creating Datetime', max=271993.0, style=ProgressStyle(des…"
      ]
     },
     "metadata": {},
     "output_type": "display_data"
    },
    {
     "name": "stdout",
     "output_type": "stream",
     "text": [
      "\n"
     ]
    },
    {
     "data": {
      "application/vnd.jupyter.widget-view+json": {
       "model_id": "c185e02b97504c7aa4907acdc97ef7fd",
       "version_major": 2,
       "version_minor": 0
      },
      "text/plain": [
       "HBox(children=(FloatProgress(value=0.0, description='Creating Year Column', max=271993.0, style=ProgressStyle(…"
      ]
     },
     "metadata": {},
     "output_type": "display_data"
    },
    {
     "name": "stdout",
     "output_type": "stream",
     "text": [
      "\n"
     ]
    },
    {
     "data": {
      "application/vnd.jupyter.widget-view+json": {
       "model_id": "4fc962c7a3094019b11fcd694a78753f",
       "version_major": 2,
       "version_minor": 0
      },
      "text/plain": [
       "HBox(children=(FloatProgress(value=0.0, description='Creating Month Column', max=271993.0, style=ProgressStyle…"
      ]
     },
     "metadata": {},
     "output_type": "display_data"
    },
    {
     "name": "stdout",
     "output_type": "stream",
     "text": [
      "\n"
     ]
    }
   ],
   "source": [
    "df = createDataset()"
   ]
  },
  {
   "cell_type": "code",
   "execution_count": 8,
   "metadata": {},
   "outputs": [],
   "source": [
    "add_feats = pd.DataFrame()\n",
    "\n",
    "add_feats = add_feats.append(pd.read_csv(\"./saved_feats.csv\"), ignore_index=True)\n",
    "add_feats = add_feats.append(pd.read_csv(\"./saved_feats_one.csv\"), ignore_index=True)"
   ]
  },
  {
   "cell_type": "code",
   "execution_count": 9,
   "metadata": {},
   "outputs": [],
   "source": [
    "new_df = pd.merge(df, add_feats,  how='left', on=['name', 'profile'])"
   ]
  },
  {
   "cell_type": "code",
   "execution_count": 10,
   "metadata": {},
   "outputs": [
    {
     "data": {
      "text/plain": [
       "4619"
      ]
     },
     "execution_count": 10,
     "metadata": {},
     "output_type": "execute_result"
    }
   ],
   "source": [
    "new_df['summaries'].isna().sum()"
   ]
  },
  {
   "cell_type": "code",
   "execution_count": 11,
   "metadata": {},
   "outputs": [
    {
     "name": "stdout",
     "output_type": "stream",
     "text": [
      "New Summaries: 9753\n",
      "NaN Summaries: 4619\n"
     ]
    }
   ],
   "source": [
    "new_data = []\n",
    "for row in new_df.itertuples():\n",
    "  if type(row.summaries)!=str:\n",
    "    new_data.append(0)\n",
    "  else:\n",
    "    new_data.append(1)\n",
    "    \n",
    "print(f\"New Summaries: {new_data.count(1)}\")\n",
    "print(f\"NaN Summaries: {new_data.count(0)}\")"
   ]
  },
  {
   "cell_type": "code",
   "execution_count": 12,
   "metadata": {},
   "outputs": [
    {
     "name": "stdout",
     "output_type": "stream",
     "text": [
      "New Summaries: 9753\n",
      "NaN Summaries: 4619\n"
     ]
    }
   ],
   "source": [
    "new_data = []\n",
    "for row in new_df.itertuples():\n",
    "  if type(row.summaries)!=str:\n",
    "    new_data.append(0)\n",
    "  else:\n",
    "    new_data.append(1)\n",
    "    \n",
    "print(f\"New Summaries: {new_data.count(1)}\")\n",
    "print(f\"NaN Summaries: {new_data.count(0)}\")"
   ]
  },
  {
   "cell_type": "code",
   "execution_count": 13,
   "metadata": {},
   "outputs": [
    {
     "data": {
      "text/plain": [
       "4619"
      ]
     },
     "execution_count": 13,
     "metadata": {},
     "output_type": "execute_result"
    }
   ],
   "source": [
    "remaining_data = new_df[new_df['summaries'].isnull()]\n",
    "len(remaining_data)"
   ]
  },
  {
   "cell_type": "code",
   "execution_count": 14,
   "metadata": {},
   "outputs": [
    {
     "name": "stdout",
     "output_type": "stream",
     "text": [
      "\u001b[32mConfession of a Child of the Century(4619)\n",
      "\u001b[31mPlot Synopsis\n",
      "\u001b[32mSummaries: 1\n",
      "\u001b[32mPoster\n",
      "Movies:  4619\n"
     ]
    }
   ],
   "source": [
    "movies = scrapeMovies(remaining_data)"
   ]
  }
 ],
 "metadata": {
  "kernelspec": {
   "display_name": "thesis",
   "language": "python",
   "name": "thesis"
  },
  "language_info": {
   "codemirror_mode": {
    "name": "ipython",
    "version": 3
   },
   "file_extension": ".py",
   "mimetype": "text/x-python",
   "name": "python",
   "nbconvert_exporter": "python",
   "pygments_lexer": "ipython3",
   "version": "3.8.5"
  }
 },
 "nbformat": 4,
 "nbformat_minor": 4
}
