{
 "cells": [
  {
   "cell_type": "code",
   "execution_count": 3,
   "metadata": {},
   "outputs": [],
   "source": [
    "import pandas as pd\n",
    "import numpy as np\n",
    "import datetime\n",
    "import dateutil\n",
    "from datetime import timedelta\n",
    "from collections import Counter\n",
    "pd.set_option('display.max_columns', 500)\n",
    "import ast\n",
    "import re\n",
    "from tqdm.notebook import tqdm, tnrange\n",
    "tqdm.pandas()\n",
    "import missingno as msno\n",
    "import seaborn as sns\n",
    "'''\n",
    "  GRAB THEATRE COUNT\n",
    "'''\n",
    "def createDate(row):\n",
    "  if type(row)==str:\n",
    "    return dateutil.parser.parse(row).strftime('%Y-%m-%d')\n",
    "  else:\n",
    "    return np.nan"
   ]
  },
  {
   "cell_type": "code",
   "execution_count": 6,
   "metadata": {},
   "outputs": [
    {
     "name": "stderr",
     "output_type": "stream",
     "text": [
      "[nltk_data] Downloading package punkt to\n",
      "[nltk_data]     C:\\Users\\Brian\\AppData\\Roaming\\nltk_data...\n",
      "[nltk_data]   Package punkt is already up-to-date!\n"
     ]
    }
   ],
   "source": [
    "from sklearn.metrics.pairwise import cosine_similarity\n",
    "from sklearn.feature_extraction.text import CountVectorizer\n",
    "import nltk\n",
    "nltk.download('punkt')\n",
    "import seaborn as sns\n",
    "import nltk.data\n",
    "tokenizer = nltk.data.load('tokenizers/punkt/english.pickle')"
   ]
  },
  {
   "cell_type": "code",
   "execution_count": 7,
   "metadata": {},
   "outputs": [
    {
     "name": "stderr",
     "output_type": "stream",
     "text": [
      "C:\\Users\\Brian\\Anaconda3\\envs\\recommender\\lib\\site-packages\\IPython\\core\\interactiveshell.py:3338: DtypeWarning: Columns (29) have mixed types.Specify dtype option on import or set low_memory=False.\n",
      "  if (await self.run_code(code, result,  async_=asy)):\n"
     ]
    }
   ],
   "source": [
    "'''\n",
    "  GRAB MOVIE DATA FROM THREADS\n",
    "'''\n",
    "\n",
    "def createDf():\n",
    "  path = \"./data//full_\"\n",
    "  paths = ['one', 'two', 'three', 'four', 'five', 'six']\n",
    "  df = pd.DataFrame()\n",
    "  for val in paths:\n",
    "    df = df.append(pd.read_csv(f\"{path}{val}.csv\"))\n",
    "  return df\n",
    "\n",
    "df = createDf()\n",
    "\n",
    "#DROP INVALID DISTRIBUTOR COLUMNS\n",
    "df = df.drop(columns=['distributor'])\n",
    "\n",
    "#DROP MOVIES WITHOUT DEPENDENT VARIABLE DATA\n",
    "# df.dropna(subset=['box_office'], inplace=True)\n",
    "\n",
    "#DROP DUPLICATE MOVIES\n",
    "df = df.drop_duplicates(subset=['profile'])\n",
    "df = df.reset_index(drop=True)"
   ]
  },
  {
   "cell_type": "code",
   "execution_count": 8,
   "metadata": {},
   "outputs": [
    {
     "data": {
      "text/plain": [
       "(367802, 42)"
      ]
     },
     "execution_count": 8,
     "metadata": {},
     "output_type": "execute_result"
    }
   ],
   "source": [
    "df.shape"
   ]
  },
  {
   "cell_type": "code",
   "execution_count": 9,
   "metadata": {},
   "outputs": [],
   "source": [
    "drop_columns=['cast_members','cast_anchors','directors','release','mpaa','stars','languages','prod_anchors','budget','box_office', 'int_office', 'runtime','director_credits','cinematographer','cin_anch','musician','musician_anchor', 'prod_designer', 'prod_designer_anchor','costume_designer','costume_designer_anchor','sequel','screen_writers','screen_anchors','screen_credits','spec_eff','sound_mix','producers','prod_credits','cast_count','comp_count','version_count','references_count']\n",
    "df=df.drop(columns=drop_columns)"
   ]
  },
  {
   "cell_type": "code",
   "execution_count": 10,
   "metadata": {},
   "outputs": [
    {
     "data": {
      "text/html": [
       "<div>\n",
       "<style scoped>\n",
       "    .dataframe tbody tr th:only-of-type {\n",
       "        vertical-align: middle;\n",
       "    }\n",
       "\n",
       "    .dataframe tbody tr th {\n",
       "        vertical-align: top;\n",
       "    }\n",
       "\n",
       "    .dataframe thead th {\n",
       "        text-align: right;\n",
       "    }\n",
       "</style>\n",
       "<table border=\"1\" class=\"dataframe\">\n",
       "  <thead>\n",
       "    <tr style=\"text-align: right;\">\n",
       "      <th></th>\n",
       "      <th>name</th>\n",
       "      <th>profile</th>\n",
       "      <th>plot</th>\n",
       "      <th>summary</th>\n",
       "      <th>sequels</th>\n",
       "      <th>pro_comp</th>\n",
       "      <th>director_anchors</th>\n",
       "      <th>genre</th>\n",
       "      <th>star_anchs</th>\n",
       "    </tr>\n",
       "  </thead>\n",
       "  <tbody>\n",
       "    <tr>\n",
       "      <th>0</th>\n",
       "      <td>Star Wars: Episode VII - The Force Awakens</td>\n",
       "      <td>/title/tt2488496/</td>\n",
       "      <td>Luke Skywalker has vanished. In his absence, t...</td>\n",
       "      <td>Three decades after the Empire's defeat, a new...</td>\n",
       "      <td>['Star Wars: Episode IV - A New Hope', 'Star W...</td>\n",
       "      <td>['Lucasfilm', 'Bad Robot', 'Truenorth Producti...</td>\n",
       "      <td>['/name/nm0009190/']</td>\n",
       "      <td>['Action', 'Adventure', 'Sci-Fi']</td>\n",
       "      <td>['/name/nm5397459/', '/name/nm3915784/', '/nam...</td>\n",
       "    </tr>\n",
       "    <tr>\n",
       "      <th>1</th>\n",
       "      <td>Avengers: Endgame</td>\n",
       "      <td>/title/tt4154796/</td>\n",
       "      <td>In the opening, Clint Barton is teaching his d...</td>\n",
       "      <td>After the devastating events of Avengers: Infi...</td>\n",
       "      <td>['The Avengers', 'Avengers: Age of Ultron', 'A...</td>\n",
       "      <td>['Marvel Studios']</td>\n",
       "      <td>['/name/nm0751577/', '/name/nm0751648/']</td>\n",
       "      <td>['Action', 'Adventure', 'Drama']</td>\n",
       "      <td>['/name/nm0000375/', '/name/nm0262635/', '/nam...</td>\n",
       "    </tr>\n",
       "    <tr>\n",
       "      <th>2</th>\n",
       "      <td>Avatar</td>\n",
       "      <td>/title/tt0499549/</td>\n",
       "      <td>The story opens with a sweeping shot high acro...</td>\n",
       "      <td>A paraplegic Marine dispatched to the moon Pan...</td>\n",
       "      <td>NaN</td>\n",
       "      <td>['Twentieth Century Fox', 'Dune Entertainment'...</td>\n",
       "      <td>['/name/nm0000116/']</td>\n",
       "      <td>['Action', 'Adventure', 'Fantasy']</td>\n",
       "      <td>['/name/nm0941777/', '/name/nm0757855/', '/nam...</td>\n",
       "    </tr>\n",
       "    <tr>\n",
       "      <th>3</th>\n",
       "      <td>Black Panther</td>\n",
       "      <td>/title/tt1825683/</td>\n",
       "      <td>A voice from a young boy asks to tell him a st...</td>\n",
       "      <td>T'Challa, heir to the hidden but advanced king...</td>\n",
       "      <td>NaN</td>\n",
       "      <td>['Marvel Studios', 'Walt Disney Pictures']</td>\n",
       "      <td>['/name/nm3363032/']</td>\n",
       "      <td>['Action', 'Adventure', 'Sci-Fi']</td>\n",
       "      <td>['/name/nm1569276/', '/name/nm0430107/', '/nam...</td>\n",
       "    </tr>\n",
       "    <tr>\n",
       "      <th>4</th>\n",
       "      <td>Avengers: Infinity War</td>\n",
       "      <td>/title/tt4154756/</td>\n",
       "      <td>SPOILER: Thanos and his Children - Proxima Mid...</td>\n",
       "      <td>The Avengers and their allies must be willing ...</td>\n",
       "      <td>['The Avengers', 'Avengers: Age of Ultron']</td>\n",
       "      <td>['Marvel Studios', 'Jason Roberts Productions'...</td>\n",
       "      <td>['/name/nm0751577/', '/name/nm0751648/']</td>\n",
       "      <td>['Action', 'Adventure', 'Sci-Fi']</td>\n",
       "      <td>['/name/nm0000375/', '/name/nm1165110/', '/nam...</td>\n",
       "    </tr>\n",
       "  </tbody>\n",
       "</table>\n",
       "</div>"
      ],
      "text/plain": [
       "                                         name            profile  \\\n",
       "0  Star Wars: Episode VII - The Force Awakens  /title/tt2488496/   \n",
       "1                           Avengers: Endgame  /title/tt4154796/   \n",
       "2                                      Avatar  /title/tt0499549/   \n",
       "3                               Black Panther  /title/tt1825683/   \n",
       "4                      Avengers: Infinity War  /title/tt4154756/   \n",
       "\n",
       "                                                plot  \\\n",
       "0  Luke Skywalker has vanished. In his absence, t...   \n",
       "1  In the opening, Clint Barton is teaching his d...   \n",
       "2  The story opens with a sweeping shot high acro...   \n",
       "3  A voice from a young boy asks to tell him a st...   \n",
       "4  SPOILER: Thanos and his Children - Proxima Mid...   \n",
       "\n",
       "                                             summary  \\\n",
       "0  Three decades after the Empire's defeat, a new...   \n",
       "1  After the devastating events of Avengers: Infi...   \n",
       "2  A paraplegic Marine dispatched to the moon Pan...   \n",
       "3  T'Challa, heir to the hidden but advanced king...   \n",
       "4  The Avengers and their allies must be willing ...   \n",
       "\n",
       "                                             sequels  \\\n",
       "0  ['Star Wars: Episode IV - A New Hope', 'Star W...   \n",
       "1  ['The Avengers', 'Avengers: Age of Ultron', 'A...   \n",
       "2                                                NaN   \n",
       "3                                                NaN   \n",
       "4        ['The Avengers', 'Avengers: Age of Ultron']   \n",
       "\n",
       "                                            pro_comp  \\\n",
       "0  ['Lucasfilm', 'Bad Robot', 'Truenorth Producti...   \n",
       "1                                 ['Marvel Studios']   \n",
       "2  ['Twentieth Century Fox', 'Dune Entertainment'...   \n",
       "3         ['Marvel Studios', 'Walt Disney Pictures']   \n",
       "4  ['Marvel Studios', 'Jason Roberts Productions'...   \n",
       "\n",
       "                           director_anchors  \\\n",
       "0                      ['/name/nm0009190/']   \n",
       "1  ['/name/nm0751577/', '/name/nm0751648/']   \n",
       "2                      ['/name/nm0000116/']   \n",
       "3                      ['/name/nm3363032/']   \n",
       "4  ['/name/nm0751577/', '/name/nm0751648/']   \n",
       "\n",
       "                                genre  \\\n",
       "0   ['Action', 'Adventure', 'Sci-Fi']   \n",
       "1    ['Action', 'Adventure', 'Drama']   \n",
       "2  ['Action', 'Adventure', 'Fantasy']   \n",
       "3   ['Action', 'Adventure', 'Sci-Fi']   \n",
       "4   ['Action', 'Adventure', 'Sci-Fi']   \n",
       "\n",
       "                                          star_anchs  \n",
       "0  ['/name/nm5397459/', '/name/nm3915784/', '/nam...  \n",
       "1  ['/name/nm0000375/', '/name/nm0262635/', '/nam...  \n",
       "2  ['/name/nm0941777/', '/name/nm0757855/', '/nam...  \n",
       "3  ['/name/nm1569276/', '/name/nm0430107/', '/nam...  \n",
       "4  ['/name/nm0000375/', '/name/nm1165110/', '/nam...  "
      ]
     },
     "execution_count": 10,
     "metadata": {},
     "output_type": "execute_result"
    }
   ],
   "source": [
    "df.head()"
   ]
  },
  {
   "cell_type": "code",
   "execution_count": 11,
   "metadata": {},
   "outputs": [],
   "source": [
    "errors = ['The plot is unknown at this time.','Add a Plot\\xa0»','Plot unknown.','Plot kept under wraps.','Plot is unknown.','The plot is unknown.','Plot is unknown at this time.','The plot is currently unknown.','Plot is being kept under wraps.']\n",
    "replace = ['See full summary\\xa0»','...\\n','\\n']"
   ]
  },
  {
   "cell_type": "code",
   "execution_count": 12,
   "metadata": {},
   "outputs": [
    {
     "data": {
      "application/vnd.jupyter.widget-view+json": {
       "model_id": "29e07390f56b4a85829441c420129889",
       "version_major": 2,
       "version_minor": 0
      },
      "text/plain": [
       "  0%|          | 0/367802 [00:00<?, ?it/s]"
      ]
     },
     "metadata": {},
     "output_type": "display_data"
    }
   ],
   "source": [
    "df=df.reset_index(drop=True)\n",
    "error_count=0\n",
    "keep_indices=[]\n",
    "for idx,row in tqdm(enumerate(df.itertuples()),total=len(df)):\n",
    "  if row.summary in errors:\n",
    "    error_count+=1\n",
    "  else:\n",
    "    keep_indices.append(idx)\n",
    "  if type(row.summary)==str:\n",
    "    for val in replace:\n",
    "      if val in row.summary:\n",
    "        df.at[idx, 'summary']=row.summary.replace(val, \"\")\n",
    "    "
   ]
  },
  {
   "cell_type": "code",
   "execution_count": 13,
   "metadata": {},
   "outputs": [],
   "source": [
    "df=df.iloc[keep_indices]"
   ]
  },
  {
   "cell_type": "code",
   "execution_count": 14,
   "metadata": {},
   "outputs": [],
   "source": [
    "df=df.reset_index(drop=True)"
   ]
  },
  {
   "cell_type": "code",
   "execution_count": 15,
   "metadata": {},
   "outputs": [
    {
     "data": {
      "application/vnd.jupyter.widget-view+json": {
       "model_id": "d90fa5a2fde4407d9b519dac86480c9d",
       "version_major": 2,
       "version_minor": 0
      },
      "text/plain": [
       "Production Company:   0%|          | 0/220819 [00:00<?, ?it/s]"
      ]
     },
     "metadata": {},
     "output_type": "display_data"
    }
   ],
   "source": [
    "def mainProd(row):\n",
    "  try:\n",
    "    return row[0]\n",
    "  except:\n",
    "    return np.nan\n",
    "tqdm.pandas(desc=\"Production Company\")\n",
    "df['main_prod'] = df['pro_comp'].progress_apply(lambda x: ast.literal_eval(x)[0] if type(x)==str else np.nan)\n",
    "df=df.drop('pro_comp',axis=1)"
   ]
  },
  {
   "cell_type": "code",
   "execution_count": 16,
   "metadata": {},
   "outputs": [],
   "source": [
    "lists = ['sequels','director_anchors','star_anchs']\n",
    "for val in lists:\n",
    "  df[val]=df[val].apply(lambda x: ast.literal_eval(x) if type(x)==str else np.nan)"
   ]
  },
  {
   "cell_type": "code",
   "execution_count": 17,
   "metadata": {},
   "outputs": [],
   "source": [
    "fixed_plots = []\n",
    "for idx, row in enumerate(df.itertuples()):\n",
    "  if type(row.summary)!=str:\n",
    "    if type(row.plot)==str:\n",
    "      df.at[idx, 'summary']=row.plot\n",
    "      fixed_plots.append(row.plot)"
   ]
  },
  {
   "cell_type": "code",
   "execution_count": 18,
   "metadata": {},
   "outputs": [
    {
     "name": "stdout",
     "output_type": "stream",
     "text": [
      "Fixed 185 movie summaries\n"
     ]
    }
   ],
   "source": [
    "print(f\"Fixed {len(fixed_plots)} movie summaries\")"
   ]
  },
  {
   "cell_type": "code",
   "execution_count": 19,
   "metadata": {},
   "outputs": [],
   "source": [
    "df=df.dropna(subset=['summary'])\n",
    "df=df.reset_index(drop=True)"
   ]
  },
  {
   "cell_type": "code",
   "execution_count": 20,
   "metadata": {},
   "outputs": [
    {
     "data": {
      "text/plain": [
       "<AxesSubplot:>"
      ]
     },
     "execution_count": 20,
     "metadata": {},
     "output_type": "execute_result"
    },
    {
     "data": {
      "image/png": "[encoded data removed]",
      "text/plain": [
       "<Figure size 1728x720 with 3 Axes>"
      ]
     },
     "metadata": {
      "needs_background": "light"
     },
     "output_type": "display_data"
    }
   ],
   "source": [
    "msno.bar(df)"
   ]
  },
  {
   "cell_type": "markdown",
   "metadata": {},
   "source": [
    "### Feature Engineering"
   ]
  },
  {
   "cell_type": "markdown",
   "metadata": {},
   "source": [
    "#### Genre and Director\n",
    "#### Genre and Stars\n",
    "#### Stars and Director\n",
    "#### Stars Director Genre"
   ]
  },
  {
   "cell_type": "code",
   "execution_count": 21,
   "metadata": {},
   "outputs": [],
   "source": [
    "def summary_len(text):\n",
    "  result = len(tokenizer.tokenize(text))\n",
    "  return result\n",
    "df['summary_len']=df['summary'].apply(summary_len)"
   ]
  },
  {
   "cell_type": "code",
   "execution_count": 22,
   "metadata": {},
   "outputs": [
    {
     "data": {
      "text/plain": [
       "0         2\n",
       "1         2\n",
       "2         1\n",
       "3         1\n",
       "4         1\n",
       "         ..\n",
       "194881    1\n",
       "194882    1\n",
       "194883    1\n",
       "194884    2\n",
       "194885    1\n",
       "Name: summary_len, Length: 194886, dtype: int64"
      ]
     },
     "execution_count": 22,
     "metadata": {},
     "output_type": "execute_result"
    }
   ],
   "source": [
    "df['summary_len']"
   ]
  },
  {
   "cell_type": "code",
   "execution_count": 23,
   "metadata": {},
   "outputs": [
    {
     "name": "stderr",
     "output_type": "stream",
     "text": [
      "C:\\Users\\Brian\\Anaconda3\\envs\\recommender\\lib\\site-packages\\seaborn\\distributions.py:2557: FutureWarning: `distplot` is a deprecated function and will be removed in a future version. Please adapt your code to use either `displot` (a figure-level function with similar flexibility) or `histplot` (an axes-level function for histograms).\n",
      "  warnings.warn(msg, FutureWarning)\n"
     ]
    },
    {
     "data": {
      "text/plain": [
       "<AxesSubplot:xlabel='summary_len', ylabel='Density'>"
      ]
     },
     "execution_count": 23,
     "metadata": {},
     "output_type": "execute_result"
    },
    {
     "data": {
      "image/png": "[encoded data removed]",
      "text/plain": [
       "<Figure size 432x288 with 1 Axes>"
      ]
     },
     "metadata": {
      "needs_background": "light"
     },
     "output_type": "display_data"
    }
   ],
   "source": [
    "sns.distplot(df['summary_len'])"
   ]
  },
  {
   "cell_type": "code",
   "execution_count": 24,
   "metadata": {},
   "outputs": [],
   "source": [
    "df['word_count']=df['summary'].apply(lambda x: len(x.split(\" \")))"
   ]
  },
  {
   "cell_type": "code",
   "execution_count": 25,
   "metadata": {},
   "outputs": [
    {
     "data": {
      "text/plain": [
       "59781"
      ]
     },
     "execution_count": 25,
     "metadata": {},
     "output_type": "execute_result"
    }
   ],
   "source": [
    "len(df.loc[df['word_count']<25])"
   ]
  },
  {
   "cell_type": "code",
   "execution_count": 26,
   "metadata": {},
   "outputs": [
    {
     "name": "stderr",
     "output_type": "stream",
     "text": [
      "C:\\Users\\Brian\\Anaconda3\\envs\\recommender\\lib\\site-packages\\seaborn\\distributions.py:2557: FutureWarning: `distplot` is a deprecated function and will be removed in a future version. Please adapt your code to use either `displot` (a figure-level function with similar flexibility) or `histplot` (an axes-level function for histograms).\n",
      "  warnings.warn(msg, FutureWarning)\n"
     ]
    },
    {
     "data": {
      "text/plain": [
       "<AxesSubplot:xlabel='word_count', ylabel='Density'>"
      ]
     },
     "execution_count": 26,
     "metadata": {},
     "output_type": "execute_result"
    },
    {
     "data": {
      "image/png": "[encoded data removed]",
      "text/plain": [
       "<Figure size 432x288 with 1 Axes>"
      ]
     },
     "metadata": {
      "needs_background": "light"
     },
     "output_type": "display_data"
    }
   ],
   "source": [
    "sns.distplot(df['word_count'])"
   ]
  },
  {
   "cell_type": "code",
   "execution_count": 27,
   "metadata": {},
   "outputs": [
    {
     "data": {
      "text/plain": [
       "array([    0, 94308, 70221, 24774,  4391,   804,   175,    68,    33,\n",
       "          14,     5,     8,    10,     8,     6,     3,     5,     1,\n",
       "           4,     4,     3,     2,     3,     3,     1,     3,     1,\n",
       "           3,     2,     0,     1,     2,     3,     0,     1,     2,\n",
       "           0,     1,     0,     1,     0,     0,     1,     1,     2,\n",
       "           0,     0,     2,     1,     0,     0,     0,     0,     0,\n",
       "           0,     0,     0,     1,     0,     0,     0,     1,     0,\n",
       "           0,     1,     0,     0,     0,     0,     0,     0,     0,\n",
       "           0,     0,     0,     0,     0,     0,     0,     0,     0,\n",
       "           0,     0,     0,     0,     0,     0,     0,     0,     0,\n",
       "           0,     0,     0,     0,     1,     0,     0,     0,     0,\n",
       "           0,     0,     0,     0,     0,     0,     0,     0,     0,\n",
       "           0,     0,     0,     0,     0,     0,     0,     0,     1],\n",
       "      dtype=int64)"
      ]
     },
     "execution_count": 27,
     "metadata": {},
     "output_type": "execute_result"
    }
   ],
   "source": [
    "np.bincount(df['summary_len'])"
   ]
  },
  {
   "cell_type": "code",
   "execution_count": 28,
   "metadata": {},
   "outputs": [],
   "source": [
    "import torch\n",
    "import json \n",
    "from transformers import T5Tokenizer, T5ForConditionalGeneration, T5Config"
   ]
  },
  {
   "cell_type": "code",
   "execution_count": 34,
   "metadata": {},
   "outputs": [
    {
     "name": "stderr",
     "output_type": "stream",
     "text": [
      "Some weights of the model checkpoint at t5-small were not used when initializing T5ForConditionalGeneration: ['decoder.block.0.layer.1.EncDecAttention.relative_attention_bias.weight']\n",
      "- This IS expected if you are initializing T5ForConditionalGeneration from the checkpoint of a model trained on another task or with another architecture (e.g. initializing a BertForSequenceClassification model from a BertForPreTraining model).\n",
      "- This IS NOT expected if you are initializing T5ForConditionalGeneration from the checkpoint of a model that you expect to be exactly identical (initializing a BertForSequenceClassification model from a BertForSequenceClassification model).\n"
     ]
    }
   ],
   "source": [
    "device = torch.device('cpu')\n",
    "model = T5ForConditionalGeneration.from_pretrained('t5-small')\n",
    "tokenizer = T5Tokenizer.from_pretrained('t5-small')"
   ]
  },
  {
   "cell_type": "code",
   "execution_count": 35,
   "metadata": {},
   "outputs": [],
   "source": [
    "def summarize_text(text):\n",
    "  preprocess_text = text.strip().replace(\"\\n\",\"\")\n",
    "  t5_prepared_Text = \"summarize: \"+preprocess_text\n",
    "\n",
    "  tokenized_text = tokenizer.encode(t5_prepared_Text, return_tensors=\"pt\").to(device)\n",
    "\n",
    "\n",
    "  # summmarize \n",
    "  summary_ids = model.generate(tokenized_text,\n",
    "                                      num_beams=4,\n",
    "                                      no_repeat_ngram_size=2,\n",
    "                                      max_length=30,\n",
    "                                      early_stopping=True)\n",
    "\n",
    "  output = tokenizer.decode(summary_ids[0], skip_special_tokens=True)\n",
    "  return output"
   ]
  },
  {
   "cell_type": "code",
   "execution_count": 36,
   "metadata": {},
   "outputs": [
    {
     "data": {
      "text/plain": [
       "True"
      ]
     },
     "execution_count": 36,
     "metadata": {},
     "output_type": "execute_result"
    }
   ],
   "source": [
    "torch.cuda.is_available()"
   ]
  },
  {
   "cell_type": "code",
   "execution_count": null,
   "metadata": {},
   "outputs": [
    {
     "data": {
      "application/vnd.jupyter.widget-view+json": {
       "model_id": "09bae102dc5b4abaa42bcf9009d0c3ab",
       "version_major": 2,
       "version_minor": 0
      },
      "text/plain": [
       "Production Company:   0%|          | 0/194886 [00:00<?, ?it/s]"
      ]
     },
     "metadata": {},
     "output_type": "display_data"
    }
   ],
   "source": [
    "df['summary_input'] = df['summary'].progress_apply(summarize_text)"
   ]
  },
  {
   "cell_type": "code",
   "execution_count": null,
   "metadata": {},
   "outputs": [
    {
     "data": {
      "application/vnd.jupyter.widget-view+json": {
       "model_id": "156c1477bb574cf4849e723e90653368",
       "version_major": 2,
       "version_minor": 0
      },
      "text/plain": [
       "  0%|          | 0/194886 [00:00<?, ?it/s]"
      ]
     },
     "metadata": {},
     "output_type": "display_data"
    },
    {
     "name": "stderr",
     "output_type": "stream",
     "text": [
      "Token indices sequence length is longer than the specified maximum sequence length for this model (816 > 512). Running this sequence through the model will result in indexing errors\n"
     ]
    }
   ],
   "source": [
    "values = []\n",
    "for idx, row in tqdm(enumerate(df.itertuples()), total=len(df)):\n",
    "  preprocess_text = row.summary.strip().replace(\"\\n\",\"\")\n",
    "  t5_prepared_Text = \"summarize: \"+preprocess_text\n",
    "\n",
    "  tokenized_text = tokenizer.encode(t5_prepared_Text, return_tensors=\"pt\").to(device)\n",
    "\n",
    "\n",
    "  # summmarize \n",
    "  summary_ids = model.generate(tokenized_text,\n",
    "                                      num_beams=4,\n",
    "                                      no_repeat_ngram_size=2,\n",
    "                                      max_length=30,\n",
    "                                      early_stopping=True)\n",
    "\n",
    "  output = tokenizer.decode(summary_ids[0], skip_special_tokens=True)\n",
    "  values.append(output)"
   ]
  },
  {
   "cell_type": "code",
   "execution_count": null,
   "metadata": {},
   "outputs": [],
   "source": [
    "df['summary_input']=values"
   ]
  },
  {
   "cell_type": "code",
   "execution_count": null,
   "metadata": {},
   "outputs": [],
   "source": [
    "df.to_csv(\"data.csv\")"
   ]
  },
  {
   "cell_type": "code",
   "execution_count": 6,
   "metadata": {},
   "outputs": [
    {
     "name": "stderr",
     "output_type": "stream",
     "text": [
      "Some weights of the model checkpoint at t5-small were not used when initializing T5ForConditionalGeneration: ['decoder.block.0.layer.1.EncDecAttention.relative_attention_bias.weight']\n",
      "- This IS expected if you are initializing T5ForConditionalGeneration from the checkpoint of a model trained on another task or with another architecture (e.g. initializing a BertForSequenceClassification model from a BertForPreTraining model).\n",
      "- This IS NOT expected if you are initializing T5ForConditionalGeneration from the checkpoint of a model that you expect to be exactly identical (initializing a BertForSequenceClassification model from a BertForSequenceClassification model).\n"
     ]
    },
    {
     "name": "stdout",
     "output_type": "stream",
     "text": [
      "original text preprocessed: \n",
      " The US has \"passed the peak\" on new coronavirus cases, President Donald Trump said and predicted that some states would reopen this month.The US has over 637,000 confirmed Covid-19 cases and over 30,826 deaths, the highest for any country in the world.At the daily White House coronavirus briefing on Wednesday, Trump said new guidelines to reopen the country would be announced on Thursday after he speaks to governors.\"We'll be the comeback kids, all of us,\" he said. \"We want to get our country back.\"The Trump administration has previously fixed May 1 as a possible date to reopen the world's largest economy, but the president said some states may be able to return to normalcy earlier than that.\n",
      "\n",
      "\n",
      "Summarized text: \n",
      " the president predicts some states will reopen this month. the u.s. has over 637,000 confirmed cases and over 30,826 deaths, the highest for any country in the world. \"we want to get our country back,\" he says.\n"
     ]
    }
   ],
   "source": [
    "import torch\n",
    "import json \n",
    "from transformers import T5Tokenizer, T5ForConditionalGeneration, T5Config\n",
    "\n",
    "model = T5ForConditionalGeneration.from_pretrained('t5-small')\n",
    "tokenizer = T5Tokenizer.from_pretrained('t5-small')\n",
    "device = torch.device('cuda')\n",
    "\n",
    "\n",
    "\n",
    "text =\"\"\"\n",
    "The US has \"passed the peak\" on new coronavirus cases, President Donald Trump said and predicted that some states would reopen this month.\n",
    "The US has over 637,000 confirmed Covid-19 cases and over 30,826 deaths, the highest for any country in the world.\n",
    "At the daily White House coronavirus briefing on Wednesday, Trump said new guidelines to reopen the country would be announced on Thursday after he speaks to governors.\n",
    "\"We'll be the comeback kids, all of us,\" he said. \"We want to get our country back.\"\n",
    "The Trump administration has previously fixed May 1 as a possible date to reopen the world's largest economy, but the president said some states may be able to return to normalcy earlier than that.\n",
    "\"\"\"\n",
    "\n",
    "\n",
    "preprocess_text = text.strip().replace(\"\\n\",\"\")\n",
    "t5_prepared_Text = \"summarize: \"+preprocess_text\n",
    "print (\"original text preprocessed: \\n\", preprocess_text)\n",
    "\n",
    "tokenized_text = tokenizer.encode(t5_prepared_Text, return_tensors=\"pt\").to(device)\n",
    "\n",
    "\n",
    "# summmarize \n",
    "summary_ids = model.generate(tokenized_text,\n",
    "                                    num_beams=4,\n",
    "                                    no_repeat_ngram_size=2,\n",
    "                                    min_length=30,\n",
    "                                    max_length=100,\n",
    "                                    early_stopping=True)\n",
    "\n",
    "output = tokenizer.decode(summary_ids[0], skip_special_tokens=True)\n",
    "\n",
    "print (\"\\n\\nSummarized text: \\n\",output)"
   ]
  },
  {
   "cell_type": "code",
   "execution_count": null,
   "metadata": {},
   "outputs": [],
   "source": [
    "model = TransformerSummarizer(\n",
    "    transformer_type= 'Albert',\n",
    "    transformer_model_key= 'albert-base-v2'    \n",
    ")\n",
    "def summarize_review(row):\n",
    "  result = len(tokenizer.tokenize(row))\n",
    "  if result>3:\n",
    "    return model(row,num_sentences=3)\n",
    "  else:\n",
    "    return row\n",
    "\n",
    "df['summarized_summary'] = df['summary'].progress_apply(summarize_review)"
   ]
  },
  {
   "cell_type": "code",
   "execution_count": 104,
   "metadata": {},
   "outputs": [
    {
     "name": "stdout",
     "output_type": "stream",
     "text": [
      "Three decades after the Empire's defeat, a new threat arises in the militant First Order.\n",
      "-----\n",
      "Defected stormtrooper Finn and the scavenger Rey are caught up in the Resistance's search for the missing Luke Skywalker.\n"
     ]
    }
   ],
   "source": [
    "\n",
    "\n",
    "data = df['summary'][0]\n",
    "\n",
    "\n",
    "\n",
    "print('\\n-----\\n'.join(tokenizer.tokenize(data)))"
   ]
  },
  {
   "cell_type": "code",
   "execution_count": null,
   "metadata": {},
   "outputs": [],
   "source": [
    "count = CountVectorizer()\n",
    "count_matrix = count.fit_transform(df['bag_of_words'])\n",
    "\n",
    "# generating the cosine similarity matrix\n",
    "cosine_sim = cosine_similarity(count_matrix, count_matrix)"
   ]
  },
  {
   "cell_type": "code",
   "execution_count": 46,
   "metadata": {},
   "outputs": [
    {
     "data": {
      "text/html": [
       "        <script type=\"text/javascript\">\n",
       "        window.PlotlyConfig = {MathJaxConfig: 'local'};\n",
       "        if (window.MathJax) {MathJax.Hub.Config({SVG: {font: \"STIX-Web\"}});}\n",
       "        if (typeof require !== 'undefined') {\n",
       "        require.undef(\"plotly\");\n",
       "        requirejs.config({\n",
       "            paths: {\n",
       "                'plotly': ['https://cdn.plot.ly/plotly-latest.min']\n",
       "            }\n",
       "        });\n",
       "        require(['plotly'], function(Plotly) {\n",
       "            window._Plotly = Plotly;\n",
       "        });\n",
       "        }\n",
       "        </script>\n",
       "        "
      ]
     },
     "metadata": {},
     "output_type": "display_data"
    }
   ],
   "source": [
    "import pandas as pd\n",
    "import numpy as np\n",
    "from nltk.corpus import stopwords\n",
    "from sklearn.metrics.pairwise import linear_kernel\n",
    "from sklearn.feature_extraction.text import CountVectorizer\n",
    "from sklearn.feature_extraction.text import TfidfVectorizer\n",
    "from sklearn.decomposition import LatentDirichletAllocation\n",
    "import re\n",
    "import random\n",
    "import chart_studio.graph_objs as go\n",
    "import chart_studio.plotly as py\n",
    "import cufflinks\n",
    "pd.options.display.max_columns = 30\n",
    "from IPython.core.interactiveshell import InteractiveShell\n",
    "import plotly.figure_factory as ff\n",
    "InteractiveShell.ast_node_interactivity = 'all'\n",
    "from plotly.offline import iplot\n",
    "cufflinks.go_offline()\n",
    "cufflinks.set_config_file(world_readable=True, theme='solar')"
   ]
  },
  {
   "cell_type": "code",
   "execution_count": 53,
   "metadata": {},
   "outputs": [
    {
     "data": {
      "text/html": [
       "<div>\n",
       "<style scoped>\n",
       "    .dataframe tbody tr th:only-of-type {\n",
       "        vertical-align: middle;\n",
       "    }\n",
       "\n",
       "    .dataframe tbody tr th {\n",
       "        vertical-align: top;\n",
       "    }\n",
       "\n",
       "    .dataframe thead th {\n",
       "        text-align: right;\n",
       "    }\n",
       "</style>\n",
       "<table border=\"1\" class=\"dataframe\">\n",
       "  <thead>\n",
       "    <tr style=\"text-align: right;\">\n",
       "      <th></th>\n",
       "      <th>desc</th>\n",
       "      <th>count</th>\n",
       "    </tr>\n",
       "  </thead>\n",
       "  <tbody>\n",
       "    <tr>\n",
       "      <th>0</th>\n",
       "      <td>the</td>\n",
       "      <td>274307</td>\n",
       "    </tr>\n",
       "    <tr>\n",
       "      <th>1</th>\n",
       "      <td>to</td>\n",
       "      <td>162936</td>\n",
       "    </tr>\n",
       "    <tr>\n",
       "      <th>2</th>\n",
       "      <td>of</td>\n",
       "      <td>160812</td>\n",
       "    </tr>\n",
       "    <tr>\n",
       "      <th>3</th>\n",
       "      <td>and</td>\n",
       "      <td>149960</td>\n",
       "    </tr>\n",
       "    <tr>\n",
       "      <th>4</th>\n",
       "      <td>plot</td>\n",
       "      <td>148316</td>\n",
       "    </tr>\n",
       "    <tr>\n",
       "      <th>5</th>\n",
       "      <td>add</td>\n",
       "      <td>146886</td>\n",
       "    </tr>\n",
       "    <tr>\n",
       "      <th>6</th>\n",
       "      <td>in</td>\n",
       "      <td>122313</td>\n",
       "    </tr>\n",
       "    <tr>\n",
       "      <th>7</th>\n",
       "      <td>is</td>\n",
       "      <td>91328</td>\n",
       "    </tr>\n",
       "    <tr>\n",
       "      <th>8</th>\n",
       "      <td>his</td>\n",
       "      <td>88662</td>\n",
       "    </tr>\n",
       "    <tr>\n",
       "      <th>9</th>\n",
       "      <td>see</td>\n",
       "      <td>73759</td>\n",
       "    </tr>\n",
       "    <tr>\n",
       "      <th>10</th>\n",
       "      <td>full</td>\n",
       "      <td>73634</td>\n",
       "    </tr>\n",
       "    <tr>\n",
       "      <th>11</th>\n",
       "      <td>summary</td>\n",
       "      <td>70821</td>\n",
       "    </tr>\n",
       "    <tr>\n",
       "      <th>12</th>\n",
       "      <td>with</td>\n",
       "      <td>54139</td>\n",
       "    </tr>\n",
       "    <tr>\n",
       "      <th>13</th>\n",
       "      <td>her</td>\n",
       "      <td>53294</td>\n",
       "    </tr>\n",
       "    <tr>\n",
       "      <th>14</th>\n",
       "      <td>he</td>\n",
       "      <td>48986</td>\n",
       "    </tr>\n",
       "    <tr>\n",
       "      <th>15</th>\n",
       "      <td>an</td>\n",
       "      <td>46192</td>\n",
       "    </tr>\n",
       "    <tr>\n",
       "      <th>16</th>\n",
       "      <td>for</td>\n",
       "      <td>40060</td>\n",
       "    </tr>\n",
       "    <tr>\n",
       "      <th>17</th>\n",
       "      <td>who</td>\n",
       "      <td>38596</td>\n",
       "    </tr>\n",
       "    <tr>\n",
       "      <th>18</th>\n",
       "      <td>on</td>\n",
       "      <td>37509</td>\n",
       "    </tr>\n",
       "    <tr>\n",
       "      <th>19</th>\n",
       "      <td>by</td>\n",
       "      <td>37310</td>\n",
       "    </tr>\n",
       "  </tbody>\n",
       "</table>\n",
       "</div>"
      ],
      "text/plain": [
       "       desc   count\n",
       "0       the  274307\n",
       "1        to  162936\n",
       "2        of  160812\n",
       "3       and  149960\n",
       "4      plot  148316\n",
       "5       add  146886\n",
       "6        in  122313\n",
       "7        is   91328\n",
       "8       his   88662\n",
       "9       see   73759\n",
       "10     full   73634\n",
       "11  summary   70821\n",
       "12     with   54139\n",
       "13      her   53294\n",
       "14       he   48986\n",
       "15       an   46192\n",
       "16      for   40060\n",
       "17      who   38596\n",
       "18       on   37509\n",
       "19       by   37310"
      ]
     },
     "execution_count": 53,
     "metadata": {},
     "output_type": "execute_result"
    }
   ],
   "source": [
    "def get_top_n_words(corpus, n=None):\n",
    "  vec = CountVectorizer().fit(corpus)\n",
    "  bag_of_words = vec.transform(corpus)\n",
    "  sum_words = bag_of_words.sum(axis=0) \n",
    "  words_freq = [(word, sum_words[0, idx]) for word, idx in vec.vocabulary_.items()]\n",
    "  words_freq =sorted(words_freq, key = lambda x: x[1], reverse=True)\n",
    "  return words_freq[:n]\n",
    "common_words = get_top_n_words(df['summary'].dropna(), 20)\n",
    "df1 = pd.DataFrame(common_words, columns = ['desc' , 'count'])\n",
    "df1.head(20)"
   ]
  },
  {
   "cell_type": "code",
   "execution_count": 55,
   "metadata": {},
   "outputs": [
    {
     "data": {
      "text/html": [
       "<div>\n",
       "<style scoped>\n",
       "    .dataframe tbody tr th:only-of-type {\n",
       "        vertical-align: middle;\n",
       "    }\n",
       "\n",
       "    .dataframe tbody tr th {\n",
       "        vertical-align: top;\n",
       "    }\n",
       "\n",
       "    .dataframe thead th {\n",
       "        text-align: right;\n",
       "    }\n",
       "</style>\n",
       "<table border=\"1\" class=\"dataframe\">\n",
       "  <thead>\n",
       "    <tr style=\"text-align: right;\">\n",
       "      <th></th>\n",
       "      <th>desc</th>\n",
       "      <th>count</th>\n",
       "    </tr>\n",
       "  </thead>\n",
       "  <tbody>\n",
       "    <tr>\n",
       "      <th>0</th>\n",
       "      <td>plot</td>\n",
       "      <td>148316</td>\n",
       "    </tr>\n",
       "    <tr>\n",
       "      <th>1</th>\n",
       "      <td>add</td>\n",
       "      <td>146886</td>\n",
       "    </tr>\n",
       "    <tr>\n",
       "      <th>2</th>\n",
       "      <td>summary</td>\n",
       "      <td>70821</td>\n",
       "    </tr>\n",
       "    <tr>\n",
       "      <th>3</th>\n",
       "      <td>young</td>\n",
       "      <td>24506</td>\n",
       "    </tr>\n",
       "    <tr>\n",
       "      <th>4</th>\n",
       "      <td>life</td>\n",
       "      <td>20672</td>\n",
       "    </tr>\n",
       "    <tr>\n",
       "      <th>5</th>\n",
       "      <td>man</td>\n",
       "      <td>19702</td>\n",
       "    </tr>\n",
       "    <tr>\n",
       "      <th>6</th>\n",
       "      <td>love</td>\n",
       "      <td>17078</td>\n",
       "    </tr>\n",
       "    <tr>\n",
       "      <th>7</th>\n",
       "      <td>story</td>\n",
       "      <td>14746</td>\n",
       "    </tr>\n",
       "    <tr>\n",
       "      <th>8</th>\n",
       "      <td>woman</td>\n",
       "      <td>13348</td>\n",
       "    </tr>\n",
       "    <tr>\n",
       "      <th>9</th>\n",
       "      <td>family</td>\n",
       "      <td>12738</td>\n",
       "    </tr>\n",
       "    <tr>\n",
       "      <th>10</th>\n",
       "      <td>film</td>\n",
       "      <td>12489</td>\n",
       "    </tr>\n",
       "    <tr>\n",
       "      <th>11</th>\n",
       "      <td>new</td>\n",
       "      <td>11207</td>\n",
       "    </tr>\n",
       "    <tr>\n",
       "      <th>12</th>\n",
       "      <td>girl</td>\n",
       "      <td>11136</td>\n",
       "    </tr>\n",
       "    <tr>\n",
       "      <th>13</th>\n",
       "      <td>old</td>\n",
       "      <td>10733</td>\n",
       "    </tr>\n",
       "    <tr>\n",
       "      <th>14</th>\n",
       "      <td>father</td>\n",
       "      <td>10344</td>\n",
       "    </tr>\n",
       "    <tr>\n",
       "      <th>15</th>\n",
       "      <td>world</td>\n",
       "      <td>9022</td>\n",
       "    </tr>\n",
       "    <tr>\n",
       "      <th>16</th>\n",
       "      <td>wife</td>\n",
       "      <td>8962</td>\n",
       "    </tr>\n",
       "    <tr>\n",
       "      <th>17</th>\n",
       "      <td>friends</td>\n",
       "      <td>8280</td>\n",
       "    </tr>\n",
       "    <tr>\n",
       "      <th>18</th>\n",
       "      <td>lives</td>\n",
       "      <td>8204</td>\n",
       "    </tr>\n",
       "    <tr>\n",
       "      <th>19</th>\n",
       "      <td>years</td>\n",
       "      <td>7933</td>\n",
       "    </tr>\n",
       "  </tbody>\n",
       "</table>\n",
       "</div>"
      ],
      "text/plain": [
       "       desc   count\n",
       "0      plot  148316\n",
       "1       add  146886\n",
       "2   summary   70821\n",
       "3     young   24506\n",
       "4      life   20672\n",
       "5       man   19702\n",
       "6      love   17078\n",
       "7     story   14746\n",
       "8     woman   13348\n",
       "9    family   12738\n",
       "10     film   12489\n",
       "11      new   11207\n",
       "12     girl   11136\n",
       "13      old   10733\n",
       "14   father   10344\n",
       "15    world    9022\n",
       "16     wife    8962\n",
       "17  friends    8280\n",
       "18    lives    8204\n",
       "19    years    7933"
      ]
     },
     "execution_count": 55,
     "metadata": {},
     "output_type": "execute_result"
    }
   ],
   "source": [
    "def get_top_n_words(corpus, n=None):\n",
    "  vec = CountVectorizer(stop_words='english').fit(corpus)\n",
    "  bag_of_words = vec.transform(corpus)\n",
    "  sum_words = bag_of_words.sum(axis=0) \n",
    "  words_freq = [(word, sum_words[0, idx]) for word, idx in vec.vocabulary_.items()]\n",
    "  words_freq =sorted(words_freq, key = lambda x: x[1], reverse=True)\n",
    "  return words_freq[:n]\n",
    "common_words = get_top_n_words(df['summary'].dropna(), 20)\n",
    "df2 = pd.DataFrame(common_words, columns = ['desc' , 'count'])\n",
    "df2.head(20)"
   ]
  },
  {
   "cell_type": "code",
   "execution_count": 10,
   "metadata": {},
   "outputs": [
    {
     "data": {
      "application/vnd.jupyter.widget-view+json": {
       "model_id": "99a20488c24b42709a5d885b89753608",
       "version_major": 2,
       "version_minor": 0
      },
      "text/plain": [
       "HBox(children=(IntProgress(value=0, max=20), HTML(value='')))"
      ]
     },
     "metadata": {},
     "output_type": "display_data"
    },
    {
     "name": "stderr",
     "output_type": "stream",
     "text": [
      "c:\\users\\brian\\anaconda3\\lib\\site-packages\\tqdm\\std.py:648: FutureWarning: The Panel class is removed from pandas. Accessing it from the top-level namespace will also be removed in the next version\n",
      "  from pandas import Panel\n"
     ]
    },
    {
     "name": "stdout",
     "output_type": "stream",
     "text": [
      "\n"
     ]
    }
   ],
   "source": [
    "'''\n",
    "  CONVERT COLUMNS TO LISTS\n",
    "'''\n",
    "import ast\n",
    "\n",
    "def cleanColumn(row):\n",
    "  try:\n",
    "    if type(row)==str:\n",
    "      values = ast.literal_eval(row)\n",
    "      if type(values)!=dict:\n",
    "        cleaned_values=[]\n",
    "        for val in values:\n",
    "          val = val.replace(\",\", \"\").strip()\n",
    "          cleaned_values.append(val)\n",
    "        return cleaned_values\n",
    "      else:\n",
    "        return values\n",
    "    else:\n",
    "      return np.nan\n",
    "  except:\n",
    "    return np.nan\n",
    "\n",
    "columns = ['sequel',\n",
    "'cast_members',\n",
    "'cast_anchors',\n",
    "'directors',\n",
    "'director_anchors',\n",
    "'director_credits',\n",
    "'pro_comp',\n",
    "'spec_eff',\n",
    "'sound_mix',\n",
    "'stars',\n",
    "'star_anchs',\n",
    "'screen_writers',\n",
    "'screen_anchors',\n",
    "'screen_credits',\n",
    "'producers',\n",
    "'prod_anchors',\n",
    "'prod_credits',\n",
    "'genre',\n",
    "'comp_count',\n",
    "'cast_count']\n",
    "\n",
    "for value in tqdm(columns):\n",
    "  tqdm.pandas(desc=\"Creating Datetime\")\n",
    "  df[value] = df[value].apply(cleanColumn)\n",
    "\n",
    "df['cast'] = df['cast_members']\n",
    "df = df.drop(columns=['cast_members', 'sequels'])"
   ]
  },
  {
   "cell_type": "code",
   "execution_count": 4,
   "metadata": {},
   "outputs": [
    {
     "data": {
      "application/vnd.jupyter.widget-view+json": {
       "model_id": "28ee07b081914326a5c32c2d25e6173a",
       "version_major": 2,
       "version_minor": 0
      },
      "text/plain": [
       "HBox(children=(IntProgress(value=0, description='Creating Date', max=367803, style=ProgressStyle(description_w…"
      ]
     },
     "metadata": {},
     "output_type": "display_data"
    },
    {
     "name": "stdout",
     "output_type": "stream",
     "text": [
      "\n"
     ]
    },
    {
     "data": {
      "application/vnd.jupyter.widget-view+json": {
       "model_id": "e82e3d3df9c84381b2e96d8a219ae740",
       "version_major": 2,
       "version_minor": 0
      },
      "text/plain": [
       "HBox(children=(IntProgress(value=0, description='Creating Datetime', max=271994, style=ProgressStyle(descripti…"
      ]
     },
     "metadata": {},
     "output_type": "display_data"
    },
    {
     "name": "stdout",
     "output_type": "stream",
     "text": [
      "\n"
     ]
    },
    {
     "data": {
      "application/vnd.jupyter.widget-view+json": {
       "model_id": "73b05490e8cb4ca690c8b22a9afd47eb",
       "version_major": 2,
       "version_minor": 0
      },
      "text/plain": [
       "HBox(children=(IntProgress(value=0, description='Creating Year Column', max=271994, style=ProgressStyle(descri…"
      ]
     },
     "metadata": {},
     "output_type": "display_data"
    },
    {
     "name": "stdout",
     "output_type": "stream",
     "text": [
      "\n"
     ]
    },
    {
     "data": {
      "application/vnd.jupyter.widget-view+json": {
       "model_id": "9c65b41071fb4c8da74cc322c76764a4",
       "version_major": 2,
       "version_minor": 0
      },
      "text/plain": [
       "HBox(children=(IntProgress(value=0, description='Creating Month Column', max=271994, style=ProgressStyle(descr…"
      ]
     },
     "metadata": {},
     "output_type": "display_data"
    },
    {
     "name": "stdout",
     "output_type": "stream",
     "text": [
      "\n"
     ]
    }
   ],
   "source": [
    "'''\n",
    "  CONVERT DATE INTO ISO FORMAT\n",
    "'''\n",
    "def createDates(row):\n",
    "  if type(row)==str:\n",
    "    return dateutil.parser.parse(row).strftime('%Y-%m-%d')\n",
    "  else:\n",
    "    return np.nan\n",
    "\n",
    "def createDateTime(row):\n",
    "  row = row.split(\"-\")\n",
    "  row = datetime.datetime(int(row[0]), int(row[1]), int(row[2]))\n",
    "  return row\n",
    "\n",
    "tqdm.pandas(desc=\"Creating Date\")\n",
    "df['date'] = df['release'].progress_apply(createDates)\n",
    "df = df.dropna(subset=['date'])\n",
    "df = df.reset_index(drop=True)\n",
    "\n",
    "tqdm.pandas(desc=\"Creating Datetime\")\n",
    "df['datetime'] = df['date'].progress_apply(createDateTime)\n",
    "tqdm.pandas(desc=\"Creating Year Column\")\n",
    "df['year'] = df['datetime'].progress_apply(lambda x: x.year)\n",
    "tqdm.pandas(desc=\"Creating Month Column\")\n",
    "df['month'] = df['datetime'].progress_apply(lambda x: x.month)"
   ]
  },
  {
   "cell_type": "code",
   "execution_count": 7,
   "metadata": {},
   "outputs": [
    {
     "data": {
      "application/vnd.jupyter.widget-view+json": {
       "model_id": "ead28924fd5f4cb5b0070f07e9bf4e4a",
       "version_major": 2,
       "version_minor": 0
      },
      "text/plain": [
       "HBox(children=(IntProgress(value=0, description='Production Company', max=271994, style=ProgressStyle(descript…"
      ]
     },
     "metadata": {},
     "output_type": "display_data"
    },
    {
     "name": "stdout",
     "output_type": "stream",
     "text": [
      "\n"
     ]
    }
   ],
   "source": []
  }
 ],
 "metadata": {
  "colab": {
   "collapsed_sections": [],
   "name": "feature_engineering.ipynb",
   "provenance": [],
   "version": "0.3.2"
  },
  "kernelspec": {
   "display_name": "Python [conda env:recommender] *",
   "language": "python",
   "name": "conda-env-recommender-py"
  },
  "language_info": {
   "codemirror_mode": {
    "name": "ipython",
    "version": 3
   },
   "file_extension": ".py",
   "mimetype": "text/x-python",
   "name": "python",
   "nbconvert_exporter": "python",
   "pygments_lexer": "ipython3",
   "version": "3.9.1"
  }
 },
 "nbformat": 4,
 "nbformat_minor": 4
}
