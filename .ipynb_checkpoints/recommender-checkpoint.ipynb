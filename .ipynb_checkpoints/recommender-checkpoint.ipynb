{
 "cells": [
  {
   "cell_type": "code",
   "execution_count": 1,
   "metadata": {},
   "outputs": [],
   "source": [
    "# import annoy"
   ]
  },
  {
   "cell_type": "code",
   "execution_count": 2,
   "metadata": {},
   "outputs": [],
   "source": [
    "import pandas as pd\n",
    "import ast\n",
    "import numpy as np\n",
    "from sklearn.metrics.pairwise import cosine_similarity\n",
    "from tqdm.notebook import tqdm, tnrange\n",
    "tqdm.pandas()\n",
    "import dateutil\n",
    "import datetime"
   ]
  },
  {
   "cell_type": "code",
   "execution_count": 3,
   "metadata": {},
   "outputs": [],
   "source": [
    "df = pd.read_csv(\"./data.csv\",index_col=0)"
   ]
  },
  {
   "cell_type": "code",
   "execution_count": null,
   "metadata": {},
   "outputs": [],
   "source": [
    "values = ['director_anchors','genre','star_anchs','summary_tokens']\n",
    "for val in values:\n",
    "  df[val]=df[val].apply(lambda x: ast.literal_eval(x) if type(x)==str else np.nan)"
   ]
  },
  {
   "cell_type": "code",
   "execution_count": null,
   "metadata": {},
   "outputs": [],
   "source": [
    "def createDates(row):\n",
    "  if type(row)==str:\n",
    "    return dateutil.parser.parse(row).strftime('%Y-%m-%d')\n",
    "  else:\n",
    "    return np.nan\n",
    "\n",
    "def createDateTime(row):\n",
    "  row = row.split(\"-\")\n",
    "  row = datetime.datetime(int(row[0]), int(row[1]), int(row[2]))\n",
    "  return row\n",
    "\n",
    "tqdm.pandas(desc=\"Creating Date\")\n",
    "df['date'] = df['release'].progress_apply(createDates)\n",
    "df = df.dropna(subset=['date'])\n",
    "df = df.reset_index(drop=True)\n",
    "\n",
    "tqdm.pandas(desc=\"Creating Datetime\")\n",
    "df['datetime'] = df['date'].progress_apply(createDateTime)\n",
    "tqdm.pandas(desc=\"Creating Year Column\")\n",
    "df['year'] = df['datetime'].progress_apply(lambda x: x.year)\n",
    "tqdm.pandas(desc=\"Creating Month Column\")\n",
    "df['month'] = df['datetime'].progress_apply(lambda x: x.month)"
   ]
  },
  {
   "cell_type": "code",
   "execution_count": null,
   "metadata": {},
   "outputs": [],
   "source": [
    "df.shape"
   ]
  },
  {
   "cell_type": "code",
   "execution_count": null,
   "metadata": {},
   "outputs": [],
   "source": [
    "df.loc[df['year']>1970].shape"
   ]
  },
  {
   "cell_type": "code",
   "execution_count": null,
   "metadata": {},
   "outputs": [],
   "source": [
    "df=df.loc[df['year']>1970].reset_index(drop=True)"
   ]
  },
  {
   "cell_type": "code",
   "execution_count": null,
   "metadata": {},
   "outputs": [],
   "source": [
    "similarities = cosine_similarity(np.array(df['summary_tokens'].tolist(), dtype='int8'))"
   ]
  },
  {
   "cell_type": "code",
   "execution_count": null,
   "metadata": {},
   "outputs": [],
   "source": [
    "import missingno as msno\n",
    "msno.bar(df)"
   ]
  },
  {
   "cell_type": "code",
   "execution_count": 8,
   "metadata": {},
   "outputs": [],
   "source": [
    "df=df.dropna(subset=['main_prod']).reset_index(drop=True)"
   ]
  },
  {
   "cell_type": "code",
   "execution_count": 9,
   "metadata": {},
   "outputs": [],
   "source": [
    "df=df.drop_duplicates(subset=['profile'])"
   ]
  },
  {
   "cell_type": "code",
   "execution_count": 18,
   "metadata": {},
   "outputs": [],
   "source": [
    "class AnnoyIndex():\n",
    "    def __init__(self, vectors, labels):\n",
    "        self.dimension = vectors.shape[1]\n",
    "        self.vectors = vectors.astype('float32')\n",
    "        self.labels = labels    \n",
    "   \n",
    "    def build(self, number_of_trees=5):\n",
    "        self.index = annoy.AnnoyIndex(self.dimension)\n",
    "        for i, vec in enumerate(self.vectors):\n",
    "            self.index.add_item(i, vec.tolist())\n",
    "        self.index.build(number_of_trees)\n",
    "        \n",
    "    def query(self, vector, k=10):\n",
    "        indices = self.index.get_nns_by_vector(\n",
    "              vector.tolist(), \n",
    "              k, \n",
    "              search_k=5)                                           \n",
    "        return [self.labels[i] for i in indices]"
   ]
  },
  {
   "cell_type": "code",
   "execution_count": 19,
   "metadata": {},
   "outputs": [],
   "source": [
    "sentence_embeddings=np.array(df['summary_tokens'].tolist(), dtype='float32')\n",
    "names = df['name']"
   ]
  },
  {
   "cell_type": "code",
   "execution_count": 20,
   "metadata": {},
   "outputs": [
    {
     "name": "stderr",
     "output_type": "stream",
     "text": [
      "/Users/brianphelps/opt/anaconda3/envs/recommender/lib/python3.7/site-packages/ipykernel_launcher.py:8: FutureWarning: The default argument for metric will be removed in future version of Annoy. Please pass metric='angular' explicitly.\n",
      "  \n"
     ]
    }
   ],
   "source": [
    "index = AnnoyIndex(sentence_embeddings, df['name'])\n",
    "index.build()"
   ]
  },
  {
   "cell_type": "code",
   "execution_count": 21,
   "metadata": {},
   "outputs": [
    {
     "data": {
      "text/plain": [
       "['Star Wars: Episode VII - The Force Awakens',\n",
       " 'Oglan Evi: 1',\n",
       " 'The Christmas Reunion',\n",
       " \"What's left of life\",\n",
       " 'Shtolnya',\n",
       " 'Ao no ekusoshisuto: Gekijôban',\n",
       " 'Software Hardware Kya Yaaron',\n",
       " 'Mayday Life',\n",
       " 'Reel',\n",
       " 'Jogo Subterrâneo']"
      ]
     },
     "execution_count": 21,
     "metadata": {},
     "output_type": "execute_result"
    }
   ],
   "source": [
    "index.query(sentence_embeddings[0])"
   ]
  },
  {
   "cell_type": "code",
   "execution_count": null,
   "metadata": {},
   "outputs": [],
   "source": [
    "# from sklearn.metrics.pairwise import cosine_similarity\n",
    "# import numpy as np\n",
    "\n",
    "def batch_cosine_similarity(x, batch=1000):\n",
    "    cosine_array = np.ndarray((x.shape[0], x.shape[0]))\n",
    "    for i in range(0, x.shape[0], batch):\n",
    "        subset = x[i: i+batch]\n",
    "        cos_sim = cosine_similarity(subset, x)\n",
    "        cosine_array[i: i+batch] = cos_sim\n",
    "    return cosine_array\n",
    "\n",
    "similarity = batch_cosine_similarity(sentence_embeddings)"
   ]
  },
  {
   "cell_type": "code",
   "execution_count": null,
   "metadata": {},
   "outputs": [],
   "source": [
    "similarities = cosine_similarity(np.array(df['summary_tokens'].tolist(), dtype='int8'))"
   ]
  }
 ],
 "metadata": {
  "kernelspec": {
   "display_name": "Python [conda env:recommender] *",
   "language": "python",
   "name": "conda-env-recommender-py"
  },
  "language_info": {
   "codemirror_mode": {
    "name": "ipython",
    "version": 3
   },
   "file_extension": ".py",
   "mimetype": "text/x-python",
   "name": "python",
   "nbconvert_exporter": "python",
   "pygments_lexer": "ipython3",
   "version": "3.7.3"
  }
 },
 "nbformat": 4,
 "nbformat_minor": 4
}
