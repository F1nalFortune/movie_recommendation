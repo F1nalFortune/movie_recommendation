{
 "cells": [
  {
   "cell_type": "markdown",
   "metadata": {},
   "source": [
    "### Imports"
   ]
  },
  {
   "cell_type": "code",
   "execution_count": 3,
   "metadata": {},
   "outputs": [],
   "source": [
    "import pandas as pd\n",
    "import numpy as np\n",
    "import datetime\n",
    "import dateutil\n",
    "from datetime import timedelta\n",
    "from collections import Counter\n",
    "pd.set_option('display.max_columns', 500)\n",
    "import ast\n",
    "import re\n",
    "from tqdm.notebook import tqdm, tnrange\n",
    "tqdm.pandas()\n",
    "import missingno as msno\n",
    "import seaborn as sns\n",
    "import swifter"
   ]
  },
  {
   "cell_type": "code",
   "execution_count": 4,
   "metadata": {},
   "outputs": [
    {
     "name": "stderr",
     "output_type": "stream",
     "text": [
      "[nltk_data] Downloading package punkt to\n",
      "[nltk_data]     /Users/brianphelps/nltk_data...\n",
      "[nltk_data]   Package punkt is already up-to-date!\n"
     ]
    }
   ],
   "source": [
    "from sklearn.metrics.pairwise import cosine_similarity\n",
    "from sklearn.feature_extraction.text import CountVectorizer\n",
    "import nltk\n",
    "nltk.download('punkt')\n",
    "import nltk.data\n",
    "tokenizer = nltk.data.load('tokenizers/punkt/english.pickle')\n",
    "\n",
    "from transformers import T5Tokenizer, T5ForConditionalGeneration, T5Config\n",
    "import torch\n",
    "import json "
   ]
  },
  {
   "cell_type": "code",
   "execution_count": 5,
   "metadata": {},
   "outputs": [],
   "source": [
    "# from pandarallel import pandarallel\n",
    "# pandarallel.initialize(progress_bar=True)"
   ]
  },
  {
   "cell_type": "code",
   "execution_count": 6,
   "metadata": {},
   "outputs": [
    {
     "name": "stderr",
     "output_type": "stream",
     "text": [
      "/Users/brianphelps/opt/anaconda3/envs/recommender/lib/python3.7/site-packages/IPython/core/interactiveshell.py:3338: DtypeWarning: Columns (29) have mixed types.Specify dtype option on import or set low_memory=False.\n",
      "  if (await self.run_code(code, result,  async_=asy)):\n"
     ]
    }
   ],
   "source": [
    "'''\n",
    "  GRAB MOVIE DATA FROM THREADS\n",
    "'''\n",
    "def createDate(row):\n",
    "  if type(row)==str:\n",
    "    return dateutil.parser.parse(row).strftime('%Y-%m-%d')\n",
    "  else:\n",
    "    return np.nan\n",
    "\n",
    "def createDf():\n",
    "  path = \"./data//full_\"\n",
    "  paths = ['one', 'two', 'three', 'four', 'five', 'six']\n",
    "  df = pd.DataFrame()\n",
    "  for val in paths:\n",
    "    df = df.append(pd.read_csv(f\"{path}{val}.csv\"))\n",
    "  return df\n",
    "\n",
    "df = createDf()\n",
    "\n",
    "#DROP INVALID DISTRIBUTOR COLUMNS\n",
    "df = df.drop(columns=['distributor'])\n",
    "\n",
    "#DROP MOVIES WITHOUT DEPENDENT VARIABLE DATA\n",
    "# df.dropna(subset=['box_office'], inplace=True)\n",
    "\n",
    "#DROP DUPLICATE MOVIES\n",
    "df = df.drop_duplicates(subset=['profile'])\n",
    "df = df.reset_index(drop=True)"
   ]
  },
  {
   "cell_type": "code",
   "execution_count": 7,
   "metadata": {},
   "outputs": [
    {
     "data": {
      "text/plain": [
       "(367802, 42)"
      ]
     },
     "execution_count": 7,
     "metadata": {},
     "output_type": "execute_result"
    }
   ],
   "source": [
    "df.shape"
   ]
  },
  {
   "cell_type": "code",
   "execution_count": 8,
   "metadata": {},
   "outputs": [],
   "source": [
    "drop_columns=['cast_members','cast_anchors','directors','mpaa','stars','prod_anchors','budget','box_office', 'int_office', 'runtime','director_credits','cinematographer','cin_anch','musician','musician_anchor', 'prod_designer', 'prod_designer_anchor','costume_designer','costume_designer_anchor','sequel','screen_writers','screen_anchors','screen_credits','spec_eff','sound_mix','producers','prod_credits','cast_count','comp_count','version_count','references_count']\n",
    "df=df.drop(columns=drop_columns)"
   ]
  },
  {
   "cell_type": "code",
   "execution_count": 9,
   "metadata": {},
   "outputs": [
    {
     "data": {
      "text/html": [
       "<div>\n",
       "<style scoped>\n",
       "    .dataframe tbody tr th:only-of-type {\n",
       "        vertical-align: middle;\n",
       "    }\n",
       "\n",
       "    .dataframe tbody tr th {\n",
       "        vertical-align: top;\n",
       "    }\n",
       "\n",
       "    .dataframe thead th {\n",
       "        text-align: right;\n",
       "    }\n",
       "</style>\n",
       "<table border=\"1\" class=\"dataframe\">\n",
       "  <thead>\n",
       "    <tr style=\"text-align: right;\">\n",
       "      <th></th>\n",
       "      <th>name</th>\n",
       "      <th>profile</th>\n",
       "      <th>plot</th>\n",
       "      <th>summary</th>\n",
       "      <th>sequels</th>\n",
       "      <th>pro_comp</th>\n",
       "      <th>director_anchors</th>\n",
       "      <th>release</th>\n",
       "      <th>genre</th>\n",
       "      <th>star_anchs</th>\n",
       "      <th>languages</th>\n",
       "    </tr>\n",
       "  </thead>\n",
       "  <tbody>\n",
       "    <tr>\n",
       "      <th>0</th>\n",
       "      <td>Star Wars: Episode VII - The Force Awakens</td>\n",
       "      <td>/title/tt2488496/</td>\n",
       "      <td>Luke Skywalker has vanished. In his absence, t...</td>\n",
       "      <td>Three decades after the Empire's defeat, a new...</td>\n",
       "      <td>['Star Wars: Episode IV - A New Hope', 'Star W...</td>\n",
       "      <td>['Lucasfilm', 'Bad Robot', 'Truenorth Producti...</td>\n",
       "      <td>['/name/nm0009190/']</td>\n",
       "      <td>18 December 2015</td>\n",
       "      <td>['Action', 'Adventure', 'Sci-Fi']</td>\n",
       "      <td>['/name/nm5397459/', '/name/nm3915784/', '/nam...</td>\n",
       "      <td>English</td>\n",
       "    </tr>\n",
       "    <tr>\n",
       "      <th>1</th>\n",
       "      <td>Avengers: Endgame</td>\n",
       "      <td>/title/tt4154796/</td>\n",
       "      <td>In the opening, Clint Barton is teaching his d...</td>\n",
       "      <td>After the devastating events of Avengers: Infi...</td>\n",
       "      <td>['The Avengers', 'Avengers: Age of Ultron', 'A...</td>\n",
       "      <td>['Marvel Studios']</td>\n",
       "      <td>['/name/nm0751577/', '/name/nm0751648/']</td>\n",
       "      <td>26 April 2019</td>\n",
       "      <td>['Action', 'Adventure', 'Drama']</td>\n",
       "      <td>['/name/nm0000375/', '/name/nm0262635/', '/nam...</td>\n",
       "      <td>English|Japanese|Xhosa|German</td>\n",
       "    </tr>\n",
       "    <tr>\n",
       "      <th>2</th>\n",
       "      <td>Avatar</td>\n",
       "      <td>/title/tt0499549/</td>\n",
       "      <td>The story opens with a sweeping shot high acro...</td>\n",
       "      <td>A paraplegic Marine dispatched to the moon Pan...</td>\n",
       "      <td>NaN</td>\n",
       "      <td>['Twentieth Century Fox', 'Dune Entertainment'...</td>\n",
       "      <td>['/name/nm0000116/']</td>\n",
       "      <td>18 December 2009</td>\n",
       "      <td>['Action', 'Adventure', 'Fantasy']</td>\n",
       "      <td>['/name/nm0941777/', '/name/nm0757855/', '/nam...</td>\n",
       "      <td>English|Spanish</td>\n",
       "    </tr>\n",
       "    <tr>\n",
       "      <th>3</th>\n",
       "      <td>Black Panther</td>\n",
       "      <td>/title/tt1825683/</td>\n",
       "      <td>A voice from a young boy asks to tell him a st...</td>\n",
       "      <td>T'Challa, heir to the hidden but advanced king...</td>\n",
       "      <td>NaN</td>\n",
       "      <td>['Marvel Studios', 'Walt Disney Pictures']</td>\n",
       "      <td>['/name/nm3363032/']</td>\n",
       "      <td>16 February 2018</td>\n",
       "      <td>['Action', 'Adventure', 'Sci-Fi']</td>\n",
       "      <td>['/name/nm1569276/', '/name/nm0430107/', '/nam...</td>\n",
       "      <td>English|Swahili|Nama|Xhosa|Korean</td>\n",
       "    </tr>\n",
       "    <tr>\n",
       "      <th>4</th>\n",
       "      <td>Avengers: Infinity War</td>\n",
       "      <td>/title/tt4154756/</td>\n",
       "      <td>SPOILER: Thanos and his Children - Proxima Mid...</td>\n",
       "      <td>The Avengers and their allies must be willing ...</td>\n",
       "      <td>['The Avengers', 'Avengers: Age of Ultron']</td>\n",
       "      <td>['Marvel Studios', 'Jason Roberts Productions'...</td>\n",
       "      <td>['/name/nm0751577/', '/name/nm0751648/']</td>\n",
       "      <td>27 April 2018</td>\n",
       "      <td>['Action', 'Adventure', 'Sci-Fi']</td>\n",
       "      <td>['/name/nm0000375/', '/name/nm1165110/', '/nam...</td>\n",
       "      <td>English</td>\n",
       "    </tr>\n",
       "  </tbody>\n",
       "</table>\n",
       "</div>"
      ],
      "text/plain": [
       "                                         name            profile  \\\n",
       "0  Star Wars: Episode VII - The Force Awakens  /title/tt2488496/   \n",
       "1                           Avengers: Endgame  /title/tt4154796/   \n",
       "2                                      Avatar  /title/tt0499549/   \n",
       "3                               Black Panther  /title/tt1825683/   \n",
       "4                      Avengers: Infinity War  /title/tt4154756/   \n",
       "\n",
       "                                                plot  \\\n",
       "0  Luke Skywalker has vanished. In his absence, t...   \n",
       "1  In the opening, Clint Barton is teaching his d...   \n",
       "2  The story opens with a sweeping shot high acro...   \n",
       "3  A voice from a young boy asks to tell him a st...   \n",
       "4  SPOILER: Thanos and his Children - Proxima Mid...   \n",
       "\n",
       "                                             summary  \\\n",
       "0  Three decades after the Empire's defeat, a new...   \n",
       "1  After the devastating events of Avengers: Infi...   \n",
       "2  A paraplegic Marine dispatched to the moon Pan...   \n",
       "3  T'Challa, heir to the hidden but advanced king...   \n",
       "4  The Avengers and their allies must be willing ...   \n",
       "\n",
       "                                             sequels  \\\n",
       "0  ['Star Wars: Episode IV - A New Hope', 'Star W...   \n",
       "1  ['The Avengers', 'Avengers: Age of Ultron', 'A...   \n",
       "2                                                NaN   \n",
       "3                                                NaN   \n",
       "4        ['The Avengers', 'Avengers: Age of Ultron']   \n",
       "\n",
       "                                            pro_comp  \\\n",
       "0  ['Lucasfilm', 'Bad Robot', 'Truenorth Producti...   \n",
       "1                                 ['Marvel Studios']   \n",
       "2  ['Twentieth Century Fox', 'Dune Entertainment'...   \n",
       "3         ['Marvel Studios', 'Walt Disney Pictures']   \n",
       "4  ['Marvel Studios', 'Jason Roberts Productions'...   \n",
       "\n",
       "                           director_anchors            release  \\\n",
       "0                      ['/name/nm0009190/']   18 December 2015   \n",
       "1  ['/name/nm0751577/', '/name/nm0751648/']      26 April 2019   \n",
       "2                      ['/name/nm0000116/']   18 December 2009   \n",
       "3                      ['/name/nm3363032/']   16 February 2018   \n",
       "4  ['/name/nm0751577/', '/name/nm0751648/']      27 April 2018   \n",
       "\n",
       "                                genre  \\\n",
       "0   ['Action', 'Adventure', 'Sci-Fi']   \n",
       "1    ['Action', 'Adventure', 'Drama']   \n",
       "2  ['Action', 'Adventure', 'Fantasy']   \n",
       "3   ['Action', 'Adventure', 'Sci-Fi']   \n",
       "4   ['Action', 'Adventure', 'Sci-Fi']   \n",
       "\n",
       "                                          star_anchs  \\\n",
       "0  ['/name/nm5397459/', '/name/nm3915784/', '/nam...   \n",
       "1  ['/name/nm0000375/', '/name/nm0262635/', '/nam...   \n",
       "2  ['/name/nm0941777/', '/name/nm0757855/', '/nam...   \n",
       "3  ['/name/nm1569276/', '/name/nm0430107/', '/nam...   \n",
       "4  ['/name/nm0000375/', '/name/nm1165110/', '/nam...   \n",
       "\n",
       "                           languages  \n",
       "0                            English  \n",
       "1      English|Japanese|Xhosa|German  \n",
       "2                    English|Spanish  \n",
       "3  English|Swahili|Nama|Xhosa|Korean  \n",
       "4                            English  "
      ]
     },
     "execution_count": 9,
     "metadata": {},
     "output_type": "execute_result"
    }
   ],
   "source": [
    "df.head()"
   ]
  },
  {
   "cell_type": "code",
   "execution_count": 10,
   "metadata": {},
   "outputs": [
    {
     "data": {
      "application/vnd.jupyter.widget-view+json": {
       "model_id": "3e08561fbe004ad9a3f75c8825768055",
       "version_major": 2,
       "version_minor": 0
      },
      "text/plain": [
       "  0%|          | 0/314537 [00:00<?, ?it/s]"
      ]
     },
     "metadata": {},
     "output_type": "display_data"
    },
    {
     "data": {
      "application/vnd.jupyter.widget-view+json": {
       "model_id": "f9cd1acc6e184029b8d2df236543129a",
       "version_major": 2,
       "version_minor": 0
      },
      "text/plain": [
       "  0%|          | 0/119984 [00:00<?, ?it/s]"
      ]
     },
     "metadata": {},
     "output_type": "display_data"
    },
    {
     "data": {
      "application/vnd.jupyter.widget-view+json": {
       "model_id": "fa1cb70166994c948e96194884582d07",
       "version_major": 2,
       "version_minor": 0
      },
      "text/plain": [
       "  0%|          | 0/119984 [00:00<?, ?it/s]"
      ]
     },
     "metadata": {},
     "output_type": "display_data"
    },
    {
     "data": {
      "application/vnd.jupyter.widget-view+json": {
       "model_id": "737c2a99db344fad8140ce21b4485d81",
       "version_major": 2,
       "version_minor": 0
      },
      "text/plain": [
       "  0%|          | 0/119984 [00:00<?, ?it/s]"
      ]
     },
     "metadata": {},
     "output_type": "display_data"
    }
   ],
   "source": [
    "df=df.dropna(subset=['languages'])\n",
    "df['languages']=df['languages'].progress_apply(lambda x: x if 'English' in x else np.nan)\n",
    "df=df.dropna(subset=['languages'])\n",
    "df['languages']=df['languages'].progress_apply(lambda x: x.split(\"|\"))\n",
    "df['languages']=df['languages'].progress_apply(lambda x: x[0])\n",
    "df['languages']=df['languages'].progress_apply(lambda x: x if x == 'English' else np.nan)\n",
    "df=df.dropna(subset=['languages'])"
   ]
  },
  {
   "cell_type": "code",
   "execution_count": 11,
   "metadata": {},
   "outputs": [],
   "source": [
    "errors = ['The plot is unknown at this time.','Add a Plot\\xa0»','Plot unknown.','Plot kept under wraps.','Plot is unknown.','The plot is unknown.','Plot is unknown at this time.','The plot is currently unknown.','Plot is being kept under wraps.']\n",
    "replace = ['See full summary\\xa0»','See full summary\\xa0»','...\\n','\\n','See full summary »','See full summary','»','...']"
   ]
  },
  {
   "cell_type": "code",
   "execution_count": 12,
   "metadata": {},
   "outputs": [
    {
     "data": {
      "application/vnd.jupyter.widget-view+json": {
       "model_id": "71bf2c00a5a044e28ace40fa4bfd573f",
       "version_major": 2,
       "version_minor": 0
      },
      "text/plain": [
       "  0%|          | 0/112506 [00:00<?, ?it/s]"
      ]
     },
     "metadata": {},
     "output_type": "display_data"
    }
   ],
   "source": [
    "df=df.reset_index(drop=True)\n",
    "error_count=0\n",
    "keep_indices=[]\n",
    "for idx,row in tqdm(enumerate(df.itertuples()),total=len(df)):\n",
    "  if row.summary in errors:\n",
    "    error_count+=1\n",
    "  else:\n",
    "    keep_indices.append(idx)"
   ]
  },
  {
   "cell_type": "code",
   "execution_count": 13,
   "metadata": {},
   "outputs": [],
   "source": [
    "df=df.iloc[keep_indices].reset_index(drop=True)"
   ]
  },
  {
   "cell_type": "code",
   "execution_count": 14,
   "metadata": {},
   "outputs": [
    {
     "data": {
      "application/vnd.jupyter.widget-view+json": {
       "model_id": "a466f9369c66455993fe7339ce455ec4",
       "version_major": 2,
       "version_minor": 0
      },
      "text/plain": [
       "  0%|          | 0/91478 [00:00<?, ?it/s]"
      ]
     },
     "metadata": {},
     "output_type": "display_data"
    }
   ],
   "source": [
    "df=df.reset_index(drop=True)\n",
    "for idx,row in tqdm(enumerate(df.itertuples()),total=len(df)):\n",
    "  if type(row.summary)==str:\n",
    "    result = row.summary\n",
    "    for val in replace:\n",
    "      result = result.replace(val, \"\")\n",
    "  else:\n",
    "    result = np.nan\n",
    "  \n",
    "  df.at[idx,'summary']=result"
   ]
  },
  {
   "cell_type": "code",
   "execution_count": 15,
   "metadata": {},
   "outputs": [
    {
     "data": {
      "application/vnd.jupyter.widget-view+json": {
       "model_id": "5b86a07fd595457b87e1c7cd2b8a36af",
       "version_major": 2,
       "version_minor": 0
      },
      "text/plain": [
       "  0%|          | 0/91478 [00:00<?, ?it/s]"
      ]
     },
     "metadata": {},
     "output_type": "display_data"
    }
   ],
   "source": [
    "df['summary']=df['summary'].progress_apply(lambda x: x.strip())"
   ]
  },
  {
   "cell_type": "code",
   "execution_count": 16,
   "metadata": {},
   "outputs": [
    {
     "data": {
      "application/vnd.jupyter.widget-view+json": {
       "model_id": "a3c7486b27074117968dd8d5706fb16f",
       "version_major": 2,
       "version_minor": 0
      },
      "text/plain": [
       "Production Company:   0%|          | 0/91478 [00:00<?, ?it/s]"
      ]
     },
     "metadata": {},
     "output_type": "display_data"
    }
   ],
   "source": [
    "def mainProd(row):\n",
    "  try:\n",
    "    return row[0]\n",
    "  except:\n",
    "    return np.nan\n",
    "tqdm.pandas(desc=\"Production Company\")\n",
    "df['main_prod'] = df['pro_comp'].progress_apply(lambda x: ast.literal_eval(x)[0] if type(x)==str else np.nan)\n",
    "df=df.drop('pro_comp',axis=1)"
   ]
  },
  {
   "cell_type": "code",
   "execution_count": 17,
   "metadata": {},
   "outputs": [],
   "source": [
    "lists = ['sequels','director_anchors','star_anchs']\n",
    "for val in lists:\n",
    "  df[val]=df[val].apply(lambda x: ast.literal_eval(x) if type(x)==str else np.nan)"
   ]
  },
  {
   "cell_type": "code",
   "execution_count": 18,
   "metadata": {},
   "outputs": [],
   "source": [
    "df=df.dropna(subset=['summary'])\n",
    "df=df.reset_index(drop=True)"
   ]
  },
  {
   "cell_type": "code",
   "execution_count": 19,
   "metadata": {},
   "outputs": [],
   "source": [
    "df=df.dropna(subset=['director_anchors','genre','star_anchs'])"
   ]
  },
  {
   "cell_type": "code",
   "execution_count": 20,
   "metadata": {},
   "outputs": [
    {
     "data": {
      "text/plain": [
       "<AxesSubplot:>"
      ]
     },
     "execution_count": 20,
     "metadata": {},
     "output_type": "execute_result"
    },
    {
     "data": {
      "image/png": "[encoded data removed]",
      "text/plain": [
       "<Figure size 1728x720 with 3 Axes>"
      ]
     },
     "metadata": {
      "needs_background": "light"
     },
     "output_type": "display_data"
    }
   ],
   "source": [
    "msno.bar(df)"
   ]
  },
  {
   "cell_type": "code",
   "execution_count": 21,
   "metadata": {},
   "outputs": [],
   "source": [
    "df=df[['name','profile','summary','director_anchors','release','genre','star_anchs','main_prod']]"
   ]
  },
  {
   "cell_type": "code",
   "execution_count": 22,
   "metadata": {},
   "outputs": [],
   "source": [
    "df=df.reset_index(drop=True)"
   ]
  },
  {
   "cell_type": "markdown",
   "metadata": {},
   "source": [
    "### Feature Engineering"
   ]
  },
  {
   "cell_type": "markdown",
   "metadata": {},
   "source": [
    "#### Genre and Director\n",
    "#### Genre and Stars\n",
    "#### Stars and Director\n",
    "#### Stars Director Genre"
   ]
  },
  {
   "cell_type": "code",
   "execution_count": 23,
   "metadata": {},
   "outputs": [
    {
     "data": {
      "application/vnd.jupyter.widget-view+json": {
       "model_id": "9c140608f3a64e5680154a3ed6924f7a",
       "version_major": 2,
       "version_minor": 0
      },
      "text/plain": [
       "Word Count:   0%|          | 0/85311 [00:00<?, ?it/s]"
      ]
     },
     "metadata": {},
     "output_type": "display_data"
    }
   ],
   "source": [
    "tqdm.pandas(desc=\"Word Count\")\n",
    "df['word_count']=df['summary'].progress_apply(lambda x: len(x.split(\" \")))"
   ]
  },
  {
   "cell_type": "code",
   "execution_count": 24,
   "metadata": {},
   "outputs": [
    {
     "data": {
      "text/plain": [
       "42325"
      ]
     },
     "execution_count": 24,
     "metadata": {},
     "output_type": "execute_result"
    }
   ],
   "source": [
    "len(df.loc[df['word_count']<30])"
   ]
  },
  {
   "cell_type": "code",
   "execution_count": 25,
   "metadata": {},
   "outputs": [
    {
     "data": {
      "text/plain": [
       "<AxesSubplot:xlabel='word_count'>"
      ]
     },
     "execution_count": 25,
     "metadata": {},
     "output_type": "execute_result"
    },
    {
     "data": {
      "image/png": "[encoded data removed]",
      "text/plain": [
       "<Figure size 432x288 with 1 Axes>"
      ]
     },
     "metadata": {
      "needs_background": "light"
     },
     "output_type": "display_data"
    }
   ],
   "source": [
    "sns.distplot(df['word_count'])"
   ]
  },
  {
   "cell_type": "code",
   "execution_count": 26,
   "metadata": {},
   "outputs": [
    {
     "data": {
      "application/vnd.jupyter.widget-view+json": {
       "model_id": "8ef52d11483246dcb49d37526351fc15",
       "version_major": 2,
       "version_minor": 0
      },
      "text/plain": [
       "Creating Date:   0%|          | 0/85311 [00:00<?, ?it/s]"
      ]
     },
     "metadata": {},
     "output_type": "display_data"
    },
    {
     "data": {
      "application/vnd.jupyter.widget-view+json": {
       "model_id": "e7b82f78f36148ae8cb65c1190710052",
       "version_major": 2,
       "version_minor": 0
      },
      "text/plain": [
       "Creating Datetime:   0%|          | 0/75938 [00:00<?, ?it/s]"
      ]
     },
     "metadata": {},
     "output_type": "display_data"
    },
    {
     "data": {
      "application/vnd.jupyter.widget-view+json": {
       "model_id": "f6df2d057d6b42e6806dba2bc20143d6",
       "version_major": 2,
       "version_minor": 0
      },
      "text/plain": [
       "Creating Year Column:   0%|          | 0/75938 [00:00<?, ?it/s]"
      ]
     },
     "metadata": {},
     "output_type": "display_data"
    }
   ],
   "source": [
    "def createDates(row):\n",
    "  if type(row)==str:\n",
    "    return dateutil.parser.parse(row).strftime('%Y-%m-%d')\n",
    "  else:\n",
    "    return np.nan\n",
    "\n",
    "def createDateTime(row):\n",
    "  row = row.split(\"-\")\n",
    "  row = datetime.datetime(int(row[0]), int(row[1]), int(row[2]))\n",
    "  return row\n",
    "\n",
    "tqdm.pandas(desc=\"Creating Date\")\n",
    "df['date'] = df['release'].progress_apply(createDates)\n",
    "df = df.dropna(subset=['date'])\n",
    "df = df.reset_index(drop=True)\n",
    "\n",
    "tqdm.pandas(desc=\"Creating Datetime\")\n",
    "df['datetime'] = df['date'].progress_apply(createDateTime)\n",
    "tqdm.pandas(desc=\"Creating Year Column\")\n",
    "df['year'] = df['datetime'].progress_apply(lambda x: x.year)"
   ]
  },
  {
   "cell_type": "code",
   "execution_count": 27,
   "metadata": {},
   "outputs": [],
   "source": [
    "df=df.loc[df['year']>1970].reset_index(drop=True)"
   ]
  },
  {
   "cell_type": "code",
   "execution_count": 31,
   "metadata": {},
   "outputs": [],
   "source": [
    "movies=0\n",
    "for row in df.itertuples():\n",
    "  if 'star wars' in row.name.lower():\n",
    "    movies+=1"
   ]
  },
  {
   "cell_type": "code",
   "execution_count": 34,
   "metadata": {},
   "outputs": [],
   "source": [
    "df[['profile','name','year']].to_csv(\"summary_ids.csv\")"
   ]
  },
  {
   "cell_type": "code",
   "execution_count": null,
   "metadata": {},
   "outputs": [],
   "source": [
    "from transformers import BertTokenizer, BertForPreTraining\n",
    "import torch\n",
    "\n",
    "tokenizer = BertTokenizer.from_pretrained('bert-base-uncased')\n",
    "model = BertForPreTraining.from_pretrained('bert-base-uncased')\n",
    "\n",
    "df['summary_tokens'] = tokenizer.batch_encode_plus(df['summary'],max_length=30,truncation=True,padding=True).input_ids"
   ]
  },
  {
   "cell_type": "code",
   "execution_count": null,
   "metadata": {},
   "outputs": [],
   "source": [
    "from sentence_transformers import SentenceTransformer\n",
    "bert = SentenceTransformer('bert-base-nli-mean-tokens')\n",
    "tokens = bert.encode(df['summary'].tolist())"
   ]
  },
  {
   "cell_type": "code",
   "execution_count": null,
   "metadata": {},
   "outputs": [],
   "source": [
    "tokens.shape"
   ]
  },
  {
   "cell_type": "code",
   "execution_count": null,
   "metadata": {},
   "outputs": [],
   "source": [
    "print(\"hello\")"
   ]
  },
  {
   "cell_type": "code",
   "execution_count": null,
   "metadata": {},
   "outputs": [],
   "source": [
    "count = CountVectorizer()\n",
    "count_matrix = count.fit_transform(df['bag_of_words'])\n",
    "\n",
    "# generating the cosine similarity matrix\n",
    "cosine_sim = cosine_similarity(count_matrix, count_matrix)"
   ]
  }
 ],
 "metadata": {
  "colab": {
   "collapsed_sections": [],
   "name": "feature_engineering.ipynb",
   "provenance": [],
   "version": "0.3.2"
  },
  "kernelspec": {
   "display_name": "Python [conda env:recommender] *",
   "language": "python",
   "name": "conda-env-recommender-py"
  },
  "language_info": {
   "codemirror_mode": {
    "name": "ipython",
    "version": 3
   },
   "file_extension": ".py",
   "mimetype": "text/x-python",
   "name": "python",
   "nbconvert_exporter": "python",
   "pygments_lexer": "ipython3",
   "version": "3.7.3"
  }
 },
 "nbformat": 4,
 "nbformat_minor": 4
}
